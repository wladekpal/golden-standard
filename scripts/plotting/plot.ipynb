{
 "cells": [
  {
   "cell_type": "code",
   "execution_count": 4,
   "id": "6a0e9ebd",
   "metadata": {},
   "outputs": [],
   "source": [
    "import matplotlib.pyplot as plt\n",
    "import matplotlib\n",
    "import wandb\n",
    "from rliable import library as rly\n",
    "from rliable import metrics\n",
    "from rliable import plot_utils\n",
    "import seaborn as sns\n",
    "import numpy as np\n",
    "import os\n",
    "\n",
    "from utils import *"
   ]
  },
  {
   "cell_type": "code",
   "execution_count": 5,
   "id": "06ed28ff",
   "metadata": {},
   "outputs": [],
   "source": [
    "plt.rcParams[\"legend.title_fontsize\"] = \"large\"\n",
    "plt.rcParams.update({'font.size': 12})\n",
    "\n",
    "matplotlib.rc(\"xtick\", labelsize=48)\n",
    "matplotlib.rc(\"ytick\", labelsize=48)"
   ]
  },
  {
   "cell_type": "code",
   "execution_count": 6,
   "id": "5757a69b",
   "metadata": {},
   "outputs": [],
   "source": [
    "# Initialize the wandb API\n",
    "api = wandb.Api()\n",
    "\n",
    "# Define your project and entity (replace with your specific values)\n",
    "entity = \"cl-probing\"  # e.g., your username or team name\n",
    "projects = [\"DQN-diagonal\", \"CRL-diagonal\"]\n",
    "figures_path = \"./figures\"\n",
    "os.makedirs(figures_path, exist_ok=True)\n",
    "take_x_seeds = 10\n",
    "window_size = 10\n",
    "use_se = True"
   ]
  },
  {
   "cell_type": "code",
   "execution_count": null,
   "id": "6f78d41b",
   "metadata": {},
   "outputs": [
    {
     "name": "stdout",
     "output_type": "stream",
     "text": [
      "14\n"
     ]
    }
   ],
   "source": [
    "# Define filters for the run config (replace with your specific filters)\n",
    "filters = {\n",
    "    \"config.env.grid_size\": 4,\n",
    "}\n",
    "\n",
    "# Fetch the runs from the API\n",
    "runs = api.runs(path=f\"{entity}/{projects[0]}\", filters=filters)\n",
    "\n",
    "runs = [run for run in runs]\n",
    "\n",
    "exp_names = [run.name for run in runs]"
   ]
  },
  {
   "cell_type": "markdown",
   "id": "ef969513",
   "metadata": {},
   "source": [
    "## Plotting"
   ]
  },
  {
   "cell_type": "code",
   "execution_count": null,
   "id": "0436f69f",
   "metadata": {},
   "outputs": [],
   "source": [
    "aggregate_data_from_wandb(runs, \"eval/mean_success\", exp_names=exp_names, exp_names_mapping=exp_names_mapping)"
   ]
  }
 ],
 "metadata": {
  "kernelspec": {
   "display_name": "crl-subgoal",
   "language": "python",
   "name": "python3"
  },
  "language_info": {
   "codemirror_mode": {
    "name": "ipython",
    "version": 3
   },
   "file_extension": ".py",
   "mimetype": "text/x-python",
   "name": "python",
   "nbconvert_exporter": "python",
   "pygments_lexer": "ipython3",
   "version": "3.11.13"
  }
 },
 "nbformat": 4,
 "nbformat_minor": 5
}
