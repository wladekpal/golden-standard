{
 "cells": [
  {
   "cell_type": "code",
   "execution_count": 1,
   "id": "9048e8dd",
   "metadata": {},
   "outputs": [
    {
     "name": "stdout",
     "output_type": "stream",
     "text": [
      "/home/mbortkie/repos/crl_subgoal/notebooks\n",
      "/home/mbortkie/repos/crl_subgoal/src\n"
     ]
    }
   ],
   "source": [
    "import os\n",
    "print(os.getcwd())\n",
    "os.chdir(os.path.join(os.path.dirname(os.getcwd()), \"src\"))\n",
    "print(os.getcwd()) \n"
   ]
  },
  {
   "cell_type": "code",
   "execution_count": 2,
   "id": "c896550b",
   "metadata": {},
   "outputs": [],
   "source": [
    "import functools\n",
    "import os\n",
    "\n",
    "import wandb\n",
    "import distrax\n",
    "\n",
    "os.environ[\"CUDA_DEVICE_ORDER\"]=\"PCI_BUS_ID\"   \n",
    "os.environ['CUDA_VISIBLE_DEVICES'] = '4'\n",
    "\n",
    "import jax\n",
    "import jax.numpy as jnp\n",
    "from jax import random\n",
    "from typing import Tuple, Dict, Any\n",
    "from dataclasses import dataclass\n",
    "import chex\n",
    "from flax import struct\n",
    "from absl import app, flags\n",
    "from ml_collections import config_flags\n",
    "from impls.agents import agents\n",
    "from config import SRC_ROOT_DIR\n",
    "from envs.block_moving_env import *\n",
    "from train import *\n",
    "from impls.utils.checkpoints import restore_agent, save_agent\n",
    "from config import Config, ExpConfig\n",
    "from envs import legal_envs\n",
    "import matplotlib.pyplot as plt\n"
   ]
  },
  {
   "cell_type": "code",
   "execution_count": 3,
   "id": "4122c0ca",
   "metadata": {},
   "outputs": [],
   "source": [
    "EPISODE_LENGTH = 100\n",
    "NUM_ENVS = 8"
   ]
  },
  {
   "cell_type": "code",
   "execution_count": 4,
   "id": "b3008633",
   "metadata": {},
   "outputs": [],
   "source": [
    "config = Config(\n",
    "    exp=ExpConfig(seed=0, name=\"test\"),\n",
    "    env=BoxPushingConfig(\n",
    "        grid_size=5,\n",
    "        number_of_boxes_min=3,\n",
    "        number_of_boxes_max=7,\n",
    "        number_of_moving_boxes_max=5\n",
    "    )\n",
    ")"
   ]
  },
  {
   "cell_type": "code",
   "execution_count": 5,
   "id": "9e5aaf0c",
   "metadata": {},
   "outputs": [
    {
     "data": {
      "text/plain": [
       "Config(exp=ExpConfig(name='test', project='crl_subgoal', mode='online', entity=None, num_envs=1024, batch_size=1024, seed=0, max_replay_size=10000, epochs=10, intervals_per_epoch=100, updates_per_rollout=1000, use_targets=False, use_double_batch_trick=False, gamma=0.99, eval_different_box_numbers=False, eval_mirrored=False, num_gifs=1, save_dir=None, gif_every=10), env=BoxPushingConfig(grid_size=5, number_of_boxes_min=3, number_of_boxes_max=7, number_of_moving_boxes_max=5, episode_length=100, truncate_when_success=False, dense_rewards=False, level_generator='default', generator_mirroring=False), agent=actor_hidden_dims: &id001 !!python/tuple\n",
       "- 256\n",
       "- 256\n",
       "actor_log_q: true\n",
       "actor_loss: awr\n",
       "agent_name: crl\n",
       "alpha: 0.1\n",
       "batch_size: 256\n",
       "const_std: true\n",
       "discount: 0.99\n",
       "discrete: true\n",
       "encoder: null\n",
       "expectile: 0.9\n",
       "latent_dim: 64\n",
       "layer_norm: true\n",
       "lr: 0.0003\n",
       "tau: 0.005\n",
       "use_next_obs: false\n",
       "value_hidden_dims: *id001\n",
       ")"
      ]
     },
     "execution_count": 5,
     "metadata": {},
     "output_type": "execute_result"
    }
   ],
   "source": [
    "config"
   ]
  },
  {
   "cell_type": "code",
   "execution_count": 6,
   "id": "59bafa6d",
   "metadata": {},
   "outputs": [],
   "source": [
    "env = create_env(config.env)\n",
    "env = AutoResetWrapper(env)\n",
    "key = random.PRNGKey(config.exp.seed)\n",
    "env.step = jax.jit(jax.vmap(env.step))\n",
    "env.reset = jax.jit(jax.vmap(env.reset))\n",
    "partial_flatten = functools.partial(flatten_batch, get_next_obs=config.agent.use_next_obs)\n",
    "jitted_flatten_batch = jax.jit(jax.vmap(partial_flatten, in_axes=(None, 0, 0)), static_argnums=(0,))\n",
    "\n",
    "dummy_timestep = env.get_dummy_timestep(key)\n",
    "\n",
    "replay_buffer = jit_wrap(\n",
    "    TrajectoryUniformSamplingQueue(\n",
    "        max_replay_size=config.exp.max_replay_size,\n",
    "        dummy_data_sample=dummy_timestep,\n",
    "        sample_batch_size=config.exp.batch_size,\n",
    "        num_envs=config.exp.num_envs,\n",
    "        episode_length=config.env.episode_length,\n",
    "    )\n",
    ")\n",
    "buffer_state = jax.jit(replay_buffer.init)(key)\n",
    "\n",
    "example_batch = {\n",
    "    'observations':dummy_timestep.grid.reshape(1, -1),  # Add batch dimension \n",
    "    'next_observations': dummy_timestep.grid.reshape(1, -1),\n",
    "    'actions': jnp.ones((1,), dtype=jnp.int8) * (env._env.action_space-1), # TODO: make sure it should be the maximal value of action space  # Single action for batch size 1\n",
    "    'rewards': dummy_timestep.reward.reshape(1, -1),\n",
    "    'masks': 1.0 - dummy_timestep.reward.reshape(1, -1), \n",
    "    'value_goals': dummy_timestep.grid.reshape(1, -1),\n",
    "    'actor_goals': dummy_timestep.grid.reshape(1, -1),\n",
    "}"
   ]
  },
  {
   "cell_type": "code",
   "execution_count": 7,
   "id": "33a53af4",
   "metadata": {},
   "outputs": [
    {
     "name": "stdout",
     "output_type": "stream",
     "text": [
      "Restored from /home/mbortkie/repos/crl_subgoal/experiments/test_generalization_sc_20250814_235903/runs/long_unbugged_check_moving_boxes_5_grid_5_range_3_7_alpha_0.1/params_100.pkl\n"
     ]
    }
   ],
   "source": [
    "agent, config = restore_agent(example_batch, \"/home/mbortkie/repos/crl_subgoal/experiments/test_generalization_sc_20250814_235903/runs/long_unbugged_check_moving_boxes_5_grid_5_range_3_7_alpha_0.1\", 100)"
   ]
  },
  {
   "cell_type": "code",
   "execution_count": 8,
   "id": "ac8ca37b",
   "metadata": {},
   "outputs": [],
   "source": [
    "keys = random.split(random.PRNGKey(0), 8)\n",
    "state, info = env.reset(keys)\n"
   ]
  },
  {
   "cell_type": "code",
   "execution_count": 9,
   "id": "37e03a93",
   "metadata": {},
   "outputs": [
    {
     "data": {
      "text/plain": [
       "Array([1, 1, 5, 5, 3, 3, 5, 1], dtype=int32)"
      ]
     },
     "execution_count": 9,
     "metadata": {},
     "output_type": "execute_result"
    }
   ],
   "source": [
    "agent.sample_actions(state.grid.reshape(state.grid.shape[0], -1), state.goal.reshape(state.goal.shape[0], -1), seed=random.PRNGKey(0))"
   ]
  },
  {
   "cell_type": "code",
   "execution_count": 10,
   "id": "a7ef2d5c",
   "metadata": {},
   "outputs": [],
   "source": [
    "_, info, timesteps = collect_data(agent, key, env, NUM_ENVS, EPISODE_LENGTH, use_targets=False)\n",
    "timesteps = jax.tree_util.tree_map(lambda x: x.swapaxes(1, 0), timesteps)\n"
   ]
  },
  {
   "cell_type": "code",
   "execution_count": 11,
   "id": "8849882e",
   "metadata": {},
   "outputs": [
    {
     "data": {
      "text/plain": [
       "(8, 100, 5, 5)"
      ]
     },
     "execution_count": 11,
     "metadata": {},
     "output_type": "execute_result"
    }
   ],
   "source": [
    "timesteps.grid.shape"
   ]
  },
  {
   "cell_type": "code",
   "execution_count": 12,
   "id": "6326ac89",
   "metadata": {},
   "outputs": [],
   "source": [
    "use_targets = False\n",
    "\n",
    "\n",
    "timesteps_tr = jax.lax.cond(\n",
    "    use_targets,\n",
    "    lambda: timesteps.replace(),\n",
    "    lambda: timesteps.replace(\n",
    "        grid=GridStatesEnum.remove_targets(timesteps.grid),\n",
    "        goal=GridStatesEnum.remove_targets(timesteps.goal)\n",
    "    )\n",
    ")\n",
    "\n",
    "tr_states = timesteps_tr.grid\n",
    "tr_actions = timesteps_tr.action\n",
    "tr_goals = timesteps_tr.goal"
   ]
  },
  {
   "cell_type": "code",
   "execution_count": 13,
   "id": "c59881c9",
   "metadata": {},
   "outputs": [
    {
     "data": {
      "text/plain": [
       "Array([[[0, 1, 0, 0, 0],\n",
       "        [0, 1, 1, 0, 0],\n",
       "        [3, 0, 0, 0, 0],\n",
       "        [0, 0, 1, 0, 0],\n",
       "        [0, 0, 0, 1, 1]],\n",
       "\n",
       "       [[0, 1, 0, 0, 0],\n",
       "        [0, 1, 1, 0, 0],\n",
       "        [0, 3, 0, 0, 0],\n",
       "        [0, 0, 1, 0, 0],\n",
       "        [0, 0, 0, 1, 1]],\n",
       "\n",
       "       [[0, 1, 0, 0, 0],\n",
       "        [0, 1, 1, 0, 0],\n",
       "        [0, 0, 3, 0, 0],\n",
       "        [0, 0, 1, 0, 0],\n",
       "        [0, 0, 0, 1, 1]],\n",
       "\n",
       "       ...,\n",
       "\n",
       "       [[0, 1, 1, 0, 0],\n",
       "        [1, 0, 0, 0, 0],\n",
       "        [5, 0, 0, 0, 0],\n",
       "        [1, 0, 0, 1, 0],\n",
       "        [0, 0, 0, 0, 0]],\n",
       "\n",
       "       [[0, 1, 1, 0, 0],\n",
       "        [1, 0, 0, 0, 0],\n",
       "        [5, 0, 0, 0, 0],\n",
       "        [1, 0, 0, 1, 0],\n",
       "        [0, 0, 0, 0, 0]],\n",
       "\n",
       "       [[0, 1, 1, 0, 0],\n",
       "        [1, 0, 0, 0, 0],\n",
       "        [5, 0, 0, 0, 0],\n",
       "        [1, 0, 0, 1, 0],\n",
       "        [0, 0, 0, 0, 0]]], dtype=int8)"
      ]
     },
     "execution_count": 13,
     "metadata": {},
     "output_type": "execute_result"
    }
   ],
   "source": [
    "tr_states[0]"
   ]
  },
  {
   "cell_type": "code",
   "execution_count": 14,
   "id": "2c19acb7",
   "metadata": {},
   "outputs": [
    {
     "name": "stdout",
     "output_type": "stream",
     "text": [
      "timesteps_tr.grid.shape: (8, 100, 5, 5)\n",
      "timesteps_tr.action.shape: (8, 100)\n",
      "timesteps_tr.goal.shape: (8, 100, 5, 5)\n"
     ]
    }
   ],
   "source": [
    "print(f\"timesteps_tr.grid.shape: {timesteps_tr.grid.shape}\")\n",
    "print(f\"timesteps_tr.action.shape: {timesteps_tr.action.shape}\")\n",
    "print(f\"timesteps_tr.goal.shape: {timesteps_tr.goal.shape}\")"
   ]
  },
  {
   "cell_type": "code",
   "execution_count": 15,
   "id": "53d8a6a4",
   "metadata": {},
   "outputs": [
    {
     "data": {
      "text/plain": [
       "Array([[3, 3, 1, 4, 1, 1, 3, 4, 4, 4, 3, 2, 0, 5, 1, 4, 0, 2, 2, 2, 5, 0,\n",
       "        3, 3, 3, 3, 1, 1, 4, 2, 2, 2, 2, 0, 0, 3, 2, 0, 5, 3, 4, 2, 0, 5,\n",
       "        5, 3, 3, 5, 3, 2, 1, 4, 5, 2, 3, 2, 2, 1, 5, 4, 3, 2, 4, 4, 4, 4,\n",
       "        4, 4, 4, 4, 4, 4, 4, 4, 4, 4, 4, 4, 4, 4, 4, 4, 4, 4, 4, 4, 4, 4,\n",
       "        4, 4, 4, 4, 4, 4, 4, 4, 4, 4, 4, 4],\n",
       "       [3, 3, 4, 1, 1, 1, 0, 1, 5, 2, 0, 4, 1, 5, 3, 3, 1, 1, 3, 4, 2, 0,\n",
       "        5, 0, 0, 3, 4, 3, 0, 2, 2, 2, 5, 1, 2, 4, 1, 5, 4, 4, 4, 4, 4, 4,\n",
       "        4, 4, 4, 4, 4, 4, 4, 4, 4, 4, 4, 4, 4, 4, 4, 4, 4, 4, 4, 4, 4, 4,\n",
       "        4, 4, 4, 4, 4, 4, 4, 4, 4, 4, 4, 4, 4, 4, 4, 4, 4, 4, 4, 4, 4, 4,\n",
       "        4, 4, 4, 4, 4, 4, 4, 4, 4, 4, 4, 0],\n",
       "       [3, 0, 3, 4, 2, 5, 1, 3, 3, 0, 3, 0, 4, 1, 1, 1, 2, 3, 5, 2, 0, 3,\n",
       "        2, 3, 1, 2, 0, 3, 2, 0, 0, 0, 4, 0, 1, 2, 5, 2, 3, 2, 3, 0, 1, 3,\n",
       "        3, 0, 4, 5, 1, 1, 1, 1, 2, 5, 2, 2, 4, 3, 5, 5, 2, 2, 5, 5, 5, 5,\n",
       "        0, 5, 5, 5, 5, 5, 5, 5, 5, 5, 5, 5, 5, 5, 5, 5, 5, 5, 5, 5, 5, 5,\n",
       "        5, 5, 5, 5, 5, 5, 5, 5, 5, 5, 5, 5],\n",
       "       [2, 1, 1, 4, 0, 0, 5, 0, 2, 1, 1, 4, 3, 5, 0, 3, 5, 3, 3, 3, 0, 0,\n",
       "        5, 2, 2, 4, 3, 5, 2, 1, 1, 2, 5, 3, 3, 5, 5, 5, 5, 5, 5, 5, 5, 5,\n",
       "        5, 5, 5, 5, 5, 5, 5, 5, 5, 5, 5, 5, 5, 5, 5, 5, 5, 5, 5, 5, 5, 5,\n",
       "        5, 5, 5, 5, 5, 5, 5, 5, 5, 5, 5, 5, 5, 5, 5, 5, 5, 5, 5, 5, 5, 5,\n",
       "        5, 5, 5, 5, 5, 5, 5, 5, 5, 5, 5, 5],\n",
       "       [2, 4, 3, 1, 1, 5, 2, 2, 4, 2, 5, 2, 4, 5, 3, 0, 0, 2, 0, 1, 0, 0,\n",
       "        5, 1, 1, 4, 3, 1, 3, 0, 3, 0, 5, 0, 4, 1, 2, 3, 1, 5, 5, 3, 5, 5,\n",
       "        5, 1, 3, 5, 0, 5, 5, 5, 5, 5, 5, 5, 5, 5, 5, 5, 5, 5, 5, 5, 5, 5,\n",
       "        5, 5, 5, 5, 5, 5, 5, 5, 5, 5, 5, 5, 5, 5, 5, 5, 5, 5, 5, 5, 5, 5,\n",
       "        5, 5, 5, 5, 5, 5, 5, 5, 5, 5, 5, 5],\n",
       "       [1, 1, 1, 2, 1, 3, 2, 4, 3, 5, 1, 2, 0, 4, 3, 5, 2, 2, 0, 3, 3, 3,\n",
       "        4, 0, 5, 1, 3, 1, 1, 4, 0, 5, 0, 2, 2, 2, 4, 0, 2, 0, 5, 3, 5, 5,\n",
       "        5, 3, 5, 5, 5, 5, 5, 5, 5, 5, 5, 5, 5, 5, 5, 5, 5, 5, 5, 5, 5, 5,\n",
       "        5, 5, 5, 5, 5, 5, 5, 5, 5, 5, 5, 5, 5, 5, 5, 5, 5, 5, 5, 5, 5, 5,\n",
       "        5, 5, 5, 5, 5, 5, 5, 5, 5, 5, 5, 5],\n",
       "       [0, 4, 1, 1, 5, 0, 0, 0, 4, 1, 1, 5, 5, 5, 3, 3, 5, 5, 0, 3, 1, 4,\n",
       "        1, 2, 1, 5, 1, 0, 3, 3, 0, 4, 2, 2, 0, 5, 2, 5, 5, 2, 1, 5, 5, 5,\n",
       "        5, 5, 5, 5, 5, 5, 5, 5, 5, 5, 5, 5, 5, 5, 5, 5, 5, 5, 5, 5, 5, 5,\n",
       "        5, 5, 5, 5, 5, 5, 5, 5, 5, 5, 5, 5, 5, 5, 5, 5, 5, 5, 5, 5, 5, 5,\n",
       "        5, 5, 5, 5, 5, 5, 5, 5, 5, 5, 5, 5],\n",
       "       [1, 4, 3, 5, 2, 3, 3, 1, 3, 1, 4, 0, 5, 0, 4, 2, 0, 2, 5, 0, 3, 4,\n",
       "        2, 2, 5, 0, 2, 1, 1, 1, 3, 1, 3, 4, 2, 2, 0, 0, 5, 0, 5, 1, 3, 5,\n",
       "        0, 5, 5, 5, 5, 2, 3, 5, 1, 0, 5, 5, 5, 5, 5, 5, 5, 5, 5, 5, 5, 5,\n",
       "        5, 5, 5, 0, 4, 5, 4, 1, 3, 4, 2, 5, 5, 3, 1, 2, 0, 3, 0, 0, 2, 2,\n",
       "        1, 3, 5, 5, 5, 5, 5, 5, 5, 5, 5, 5]], dtype=int32)"
      ]
     },
     "execution_count": 15,
     "metadata": {},
     "output_type": "execute_result"
    }
   ],
   "source": [
    "tr_actions[-20:]"
   ]
  },
  {
   "cell_type": "code",
   "execution_count": 16,
   "id": "f557a2e3",
   "metadata": {},
   "outputs": [
    {
     "data": {
      "text/plain": [
       "(8, 100, 5, 5)"
      ]
     },
     "execution_count": 16,
     "metadata": {},
     "output_type": "execute_result"
    }
   ],
   "source": [
    "tr_states.shape"
   ]
  },
  {
   "cell_type": "code",
   "execution_count": 17,
   "id": "8c14bb28",
   "metadata": {},
   "outputs": [
    {
     "name": "stderr",
     "output_type": "stream",
     "text": [
      "2025-08-15 17:42:44.892362: W external/xla/xla/service/gpu/autotuning/dot_search_space.cc:200] All configs were filtered out because none of them sufficiently match the hints. Maybe the hints set does not contain a good representative set of valid configs?Working around this by using the full hints set instead.\n"
     ]
    }
   ],
   "source": [
    "eval_configs = [config]\n",
    "eval_names_suff = [\"\"]\n",
    "eval_info = {\"epoch\": 1}\n",
    "if config.exp.eval_different_box_numbers:\n",
    "    for number_of_boxes in range(1, 12, 2):\n",
    "        new_config = copy.deepcopy(config)\n",
    "        new_config.env = dataclasses.replace(new_config.env, number_of_boxes_min=number_of_boxes, number_of_boxes_max=number_of_boxes, number_of_moving_boxes_max=number_of_boxes)\n",
    "        eval_configs.append(new_config)\n",
    "        eval_names_suff.append(\"_\" + str(number_of_boxes))\n",
    "\n",
    "\n",
    "for eval_config, eval_name_suff in zip(eval_configs, eval_names_suff):\n",
    "    eval_info_tmp, loss_info = evaluate_agent_in_specific_env(agent, key, jitted_flatten_batch, eval_config, eval_name_suff ,create_gif=False, critic_temp=1)\n",
    "    eval_info.update(eval_info_tmp)\n",
    "\n",
    "    if eval_name_suff == \"\":\n",
    "        eval_info.update(loss_info)\n"
   ]
  },
  {
   "cell_type": "code",
   "execution_count": 18,
   "id": "de93b5cb",
   "metadata": {},
   "outputs": [
    {
     "data": {
      "text/plain": [
       "{'epoch': 1,\n",
       " 'eval/mean_reward': Array(0.29882812, dtype=float32),\n",
       " 'eval/min_reward': Array(0, dtype=int32),\n",
       " 'eval/max_reward': Array(1, dtype=int32),\n",
       " 'eval/mean_success': Array(0.29003906, dtype=float32),\n",
       " 'eval/mean_boxes_on_target': Array(3.4228516, dtype=float32),\n",
       " 'eval/total_loss': Array(3.8380604, dtype=float32),\n",
       " 'eval/actor_loss': Array(3.834878, dtype=float32),\n",
       " 'eval/contrastive_loss': Array(0.00158809, dtype=float32),\n",
       " 'eval/cat_acc': Array(0.8232422, dtype=float32),\n",
       " 'actor/actor_loss': Array(3.834878, dtype=float32),\n",
       " 'actor/adv': Array(-0.06846033, dtype=float32),\n",
       " 'actor/bc_log_prob': Array(-3.9930737, dtype=float32),\n",
       " 'critic/binary_accuracy': Array(0.99963665, dtype=float32),\n",
       " 'critic/categorical_accuracy': Array(0.8232422, dtype=float32),\n",
       " 'critic/contrastive_loss': Array(0.00158809, dtype=float32),\n",
       " 'critic/logits': Array(-30.204334, dtype=float32),\n",
       " 'critic/logits_neg': Array(-30.23467, dtype=float32),\n",
       " 'critic/logits_pos': Array(0.82931083, dtype=float32),\n",
       " 'critic/v_max': Array(5505.446, dtype=float32),\n",
       " 'critic/v_mean': Array(47.238052, dtype=float32),\n",
       " 'critic/v_min': Array(2.0289864e-12, dtype=float32),\n",
       " 'value/binary_accuracy': Array(0.9996271, dtype=float32),\n",
       " 'value/categorical_accuracy': Array(0.8183594, dtype=float32),\n",
       " 'value/contrastive_loss': Array(0.00159429, dtype=float32),\n",
       " 'value/logits': Array(-31.314295, dtype=float32),\n",
       " 'value/logits_neg': Array(-31.345524, dtype=float32),\n",
       " 'value/logits_pos': Array(0.6309259, dtype=float32),\n",
       " 'value/v_max': Array(528.47235, dtype=float32),\n",
       " 'value/v_mean': Array(21.583809, dtype=float32),\n",
       " 'value/v_min': Array(1.3395898e-05, dtype=float32),\n",
       " 'eval_1/mean_reward': Array(0., dtype=float32),\n",
       " 'eval_1/min_reward': Array(0, dtype=int32),\n",
       " 'eval_1/max_reward': Array(0, dtype=int32),\n",
       " 'eval_1/mean_success': Array(0., dtype=float32),\n",
       " 'eval_1/mean_boxes_on_target': Array(0., dtype=float32),\n",
       " 'eval_1/total_loss': Array(nan, dtype=float32),\n",
       " 'eval_1/actor_loss': Array(nan, dtype=float32),\n",
       " 'eval_1/contrastive_loss': Array(252.55307, dtype=float32),\n",
       " 'eval_1/cat_acc': Array(0.00097656, dtype=float32),\n",
       " 'eval_3/mean_reward': Array(0.5341797, dtype=float32),\n",
       " 'eval_3/min_reward': Array(0, dtype=int32),\n",
       " 'eval_3/max_reward': Array(1, dtype=int32),\n",
       " 'eval_3/mean_success': Array(0.5292969, dtype=float32),\n",
       " 'eval_3/mean_boxes_on_target': Array(2.3173828, dtype=float32),\n",
       " 'eval_3/total_loss': Array(4.0065227, dtype=float32),\n",
       " 'eval_3/actor_loss': Array(3.9965427, dtype=float32),\n",
       " 'eval_3/contrastive_loss': Array(0.00544774, dtype=float32),\n",
       " 'eval_3/cat_acc': Array(0.4892578, dtype=float32),\n",
       " 'eval_5/mean_reward': Array(0.15136719, dtype=float32),\n",
       " 'eval_5/min_reward': Array(0, dtype=int32),\n",
       " 'eval_5/max_reward': Array(1, dtype=int32),\n",
       " 'eval_5/mean_success': Array(0.14648438, dtype=float32),\n",
       " 'eval_5/mean_boxes_on_target': Array(2.741211, dtype=float32),\n",
       " 'eval_5/total_loss': Array(4.0850286, dtype=float32),\n",
       " 'eval_5/actor_loss': Array(4.078868, dtype=float32),\n",
       " 'eval_5/contrastive_loss': Array(0.00328988, dtype=float32),\n",
       " 'eval_5/cat_acc': Array(0.75878906, dtype=float32),\n",
       " 'eval_7/mean_reward': Array(0.0078125, dtype=float32),\n",
       " 'eval_7/min_reward': Array(0, dtype=int32),\n",
       " 'eval_7/max_reward': Array(1, dtype=int32),\n",
       " 'eval_7/mean_success': Array(0.00683594, dtype=float32),\n",
       " 'eval_7/mean_boxes_on_target': Array(2.9658203, dtype=float32),\n",
       " 'eval_7/total_loss': Array(3.3284721, dtype=float32),\n",
       " 'eval_7/actor_loss': Array(3.3240576, dtype=float32),\n",
       " 'eval_7/contrastive_loss': Array(0.00231067, dtype=float32),\n",
       " 'eval_7/cat_acc': Array(0.8417969, dtype=float32),\n",
       " 'eval_9/mean_reward': Array(0., dtype=float32),\n",
       " 'eval_9/min_reward': Array(0, dtype=int32),\n",
       " 'eval_9/max_reward': Array(0, dtype=int32),\n",
       " 'eval_9/mean_success': Array(0., dtype=float32),\n",
       " 'eval_9/mean_boxes_on_target': Array(0.87890625, dtype=float32),\n",
       " 'eval_9/total_loss': Array(49.53449, dtype=float32),\n",
       " 'eval_9/actor_loss': Array(0.48726964, dtype=float32),\n",
       " 'eval_9/contrastive_loss': Array(16.99511, dtype=float32),\n",
       " 'eval_9/cat_acc': Array(0.77441406, dtype=float32),\n",
       " 'eval_11/mean_reward': Array(0., dtype=float32),\n",
       " 'eval_11/min_reward': Array(0, dtype=int32),\n",
       " 'eval_11/max_reward': Array(0, dtype=int32),\n",
       " 'eval_11/mean_success': Array(0., dtype=float32),\n",
       " 'eval_11/mean_boxes_on_target': Array(1.1640625, dtype=float32),\n",
       " 'eval_11/total_loss': Array(121.69975, dtype=float32),\n",
       " 'eval_11/actor_loss': Array(0.01177571, dtype=float32),\n",
       " 'eval_11/contrastive_loss': Array(29.619926, dtype=float32),\n",
       " 'eval_11/cat_acc': Array(0.35742188, dtype=float32)}"
      ]
     },
     "execution_count": 18,
     "metadata": {},
     "output_type": "execute_result"
    }
   ],
   "source": [
    "eval_info"
   ]
  },
  {
   "cell_type": "code",
   "execution_count": 19,
   "id": "f82f624f",
   "metadata": {},
   "outputs": [],
   "source": [
    "dummy_timestep = env.get_dummy_timestep(key)\n",
    "\n",
    "replay_buffer = jit_wrap(\n",
    "    TrajectoryUniformSamplingQueue(\n",
    "        max_replay_size=config.exp.max_replay_size,\n",
    "        dummy_data_sample=dummy_timestep,\n",
    "        sample_batch_size=config.exp.batch_size,\n",
    "        num_envs=config.exp.num_envs,\n",
    "        episode_length=config.env.episode_length,\n",
    "    )\n",
    ")\n",
    "buffer_state = jax.jit(replay_buffer.init)(key)\n",
    "\n"
   ]
  },
  {
   "cell_type": "code",
   "execution_count": 20,
   "id": "e936f2b0",
   "metadata": {},
   "outputs": [],
   "source": [
    "data_key = random.PRNGKey(0)\n",
    "_, _, timesteps = collect_data(agent, data_key, env, config.exp.num_envs, config.env.episode_length, use_targets=config.exp.use_targets)\n",
    "buffer_state = replay_buffer.insert(buffer_state, timesteps)"
   ]
  },
  {
   "cell_type": "code",
   "execution_count": 21,
   "id": "4863f03c",
   "metadata": {},
   "outputs": [],
   "source": [
    "from impls.utils.networks import GCDiscreteActor\n",
    "import copy\n",
    "\n",
    "\n",
    "def reset_actor(agent, seed, ex_observations, ex_goals):\n",
    "    actor_def = GCDiscreteActor(\n",
    "                hidden_dims=config.agent['actor_hidden_dims'],\n",
    "                action_dim=6,\n",
    "                gc_encoder=None\n",
    "            )\n",
    "    actor_args = (ex_observations, ex_goals)\n",
    "    actor_init_rng = jax.random.PRNGKey(seed)\n",
    "\n",
    "    new_actor_params = actor_def.init(actor_init_rng, *actor_args)['params']\n",
    "\n",
    "    new_params = dict(agent.network.params)\n",
    "    new_params['modules_actor'] = new_actor_params\n",
    "\n",
    "    new_agent = copy.deepcopy(agent)\n",
    "    new_network = new_agent.network.replace(params=new_params)\n",
    "    return new_agent.replace(network=new_network)\n"
   ]
  },
  {
   "cell_type": "code",
   "execution_count": 22,
   "id": "db513a44",
   "metadata": {},
   "outputs": [
    {
     "data": {
      "text/plain": [
       "dict_keys(['modules_critic', 'modules_actor', 'modules_value'])"
      ]
     },
     "execution_count": 22,
     "metadata": {},
     "output_type": "execute_result"
    }
   ],
   "source": [
    "agent.network.params.keys()"
   ]
  },
  {
   "cell_type": "code",
   "execution_count": 23,
   "id": "337ec634",
   "metadata": {},
   "outputs": [],
   "source": [
    "ex_goals = dummy_timestep.grid.reshape(1, -1)\n",
    "ex_observations = dummy_timestep.grid.reshape(1, -1)\n",
    "agent_new = reset_actor(agent, seed=0, ex_observations=ex_observations, ex_goals=ex_goals)"
   ]
  },
  {
   "cell_type": "code",
   "execution_count": 24,
   "id": "02b8ff97",
   "metadata": {},
   "outputs": [],
   "source": [
    "def eval_agent(agent, key, config, critic_temp=None, different_boxes=False):\n",
    "    eval_configs = [config]\n",
    "    eval_names_suff = [\"\"]\n",
    "    eval_info = {\"epoch\": 1}\n",
    "    if different_boxes:\n",
    "        for number_of_boxes in range(1, 12, 2):\n",
    "            new_config = copy.deepcopy(config)\n",
    "            new_config.env = dataclasses.replace(new_config.env, number_of_boxes_min=number_of_boxes, number_of_boxes_max=number_of_boxes, number_of_moving_boxes_max=number_of_boxes)\n",
    "            eval_configs.append(new_config)\n",
    "            eval_names_suff.append(\"_\" + str(number_of_boxes))\n",
    "\n",
    "\n",
    "    for eval_config, eval_name_suff in zip(eval_configs, eval_names_suff):\n",
    "        eval_info_tmp, loss_info = evaluate_agent_in_specific_env(agent, key, jitted_flatten_batch, eval_config, eval_name_suff ,create_gif=False, critic_temp=critic_temp)\n",
    "        eval_info.update(eval_info_tmp)\n",
    "\n",
    "        if eval_name_suff == \"\":\n",
    "            eval_info.update(loss_info)\n",
    "    return eval_info"
   ]
  },
  {
   "cell_type": "code",
   "execution_count": 25,
   "id": "24348231",
   "metadata": {},
   "outputs": [],
   "source": [
    "eval_info = eval_agent(agent_new, key, config)"
   ]
  },
  {
   "cell_type": "code",
   "execution_count": 26,
   "id": "0f8fd056",
   "metadata": {},
   "outputs": [
    {
     "data": {
      "text/plain": [
       "{'epoch': 1,\n",
       " 'eval/mean_reward': Array(0., dtype=float32),\n",
       " 'eval/min_reward': Array(0, dtype=int32),\n",
       " 'eval/max_reward': Array(0, dtype=int32),\n",
       " 'eval/mean_success': Array(0., dtype=float32),\n",
       " 'eval/mean_boxes_on_target': Array(1.3339844, dtype=float32),\n",
       " 'eval/total_loss': Array(1.7424043, dtype=float32),\n",
       " 'eval/actor_loss': Array(1.7406197, dtype=float32),\n",
       " 'eval/contrastive_loss': Array(0.00100752, dtype=float32),\n",
       " 'eval/cat_acc': Array(0.93652344, dtype=float32),\n",
       " 'actor/actor_loss': Array(1.7406197, dtype=float32),\n",
       " 'actor/adv': Array(-0.42466968, dtype=float32),\n",
       " 'actor/bc_log_prob': Array(-1.7922158, dtype=float32),\n",
       " 'critic/binary_accuracy': Array(0.9997711, dtype=float32),\n",
       " 'critic/categorical_accuracy': Array(0.93652344, dtype=float32),\n",
       " 'critic/contrastive_loss': Array(0.00100752, dtype=float32),\n",
       " 'critic/logits': Array(-32.024837, dtype=float32),\n",
       " 'critic/logits_neg': Array(-32.058037, dtype=float32),\n",
       " 'critic/logits_pos': Array(1.9370639, dtype=float32),\n",
       " 'critic/v_max': Array(6834.1353, dtype=float32),\n",
       " 'critic/v_mean': Array(58.579548, dtype=float32),\n",
       " 'critic/v_min': Array(8.472602e-10, dtype=float32),\n",
       " 'value/binary_accuracy': Array(0.99978924, dtype=float32),\n",
       " 'value/categorical_accuracy': Array(0.94433594, dtype=float32),\n",
       " 'value/contrastive_loss': Array(0.0007771, dtype=float32),\n",
       " 'value/logits': Array(-31.747314, dtype=float32),\n",
       " 'value/logits_neg': Array(-31.780338, dtype=float32),\n",
       " 'value/logits_pos': Array(2.036386, dtype=float32),\n",
       " 'value/v_max': Array(413.20444, dtype=float32),\n",
       " 'value/v_mean': Array(29.339882, dtype=float32),\n",
       " 'value/v_min': Array(7.115672e-05, dtype=float32)}"
      ]
     },
     "execution_count": 26,
     "metadata": {},
     "output_type": "execute_result"
    }
   ],
   "source": [
    "eval_info"
   ]
  },
  {
   "cell_type": "code",
   "execution_count": null,
   "id": "5cb64fd7",
   "metadata": {},
   "outputs": [],
   "source": [
    "import distrax\n",
    "\n",
    "\n",
    "def actor_loss(agent, batch, grad_params, rng=None):\n",
    "    \"\"\"Compute the actor loss (AWR or DDPG+BC).\"\"\"\n",
    "    if agent.config['actor_log_q']:\n",
    "        def value_transform(x):\n",
    "            return jnp.log(jnp.maximum(x, 1e-6))\n",
    "    else:\n",
    "        def value_transform(x):\n",
    "            return x\n",
    "\n",
    "    # Maximize log Q if actor_log_q is True (which is default).\n",
    "    all_actions = jnp.tile(jnp.arange(6), (batch['observations'].shape[0], 1))  # B x 6\n",
    "    qs = jax.lax.stop_gradient(\n",
    "        jax.vmap(agent.network.select(\"critic\"), in_axes=(None, None, 1))(batch['observations'], batch['actor_goals'], all_actions)\n",
    "    )  # 6 x 2 x B\n",
    "    qs = qs.min(axis=1)  # 6 x B\n",
    "    qs = value_transform(qs)\n",
    "    qs = qs.transpose(1, 0)  # B x 6\n",
    "\n",
    "    # actions = jnp.argmax(qs, axis=-1)  # B\n",
    "    dist = distrax.Categorical(logits=qs / jnp.maximum(1e-6, 1))\n",
    "    actions = dist.sample(seed=rng)\n",
    "\n",
    "    dist = agent.network.select('actor')(batch['observations'], batch['actor_goals'], params=grad_params)\n",
    "    log_prob = dist.log_prob(actions)\n",
    "\n",
    "    # TODO: _kl_divergence_categorical_categorical(dist1, dist2)\n",
    "\n",
    "    actor_loss = -log_prob.mean()\n",
    "\n",
    "    actor_info = {\n",
    "        'actor_loss': actor_loss,\n",
    "        'bc_log_prob': log_prob.mean(),\n",
    "    }\n",
    "    return actor_loss, actor_info\n",
    "\n",
    "@jax.jit\n",
    "def total_loss(agent, batch, grad_params, rng=None):\n",
    "    \"\"\"Compute the total loss.\"\"\"\n",
    "    info = {}\n",
    "    rng = rng if rng is not None else agent.rng\n",
    "\n",
    "    rng, actor_rng = jax.random.split(rng)\n",
    "    loss, actor_info = actor_loss(agent, batch, grad_params, actor_rng)\n",
    "    for k, v in actor_info.items():\n",
    "        info[f'actor/{k}'] = v\n",
    "\n",
    "    return loss, info\n",
    "\n",
    "@jax.jit\n",
    "def update(agent, batch):\n",
    "    \"\"\"Update the agent and return a new agent with information dictionary.\"\"\"\n",
    "    new_rng, rng = jax.random.split(agent.rng)\n",
    "\n",
    "    def loss_fn(grad_params):\n",
    "        return total_loss(agent, batch, grad_params, rng=rng)\n",
    "\n",
    "    new_network, info = agent.network.apply_loss_fn(loss_fn=loss_fn)\n",
    "\n",
    "    return agent.replace(network=new_network, rng=new_rng), info"
   ]
  },
  {
   "cell_type": "code",
   "execution_count": null,
   "id": "ad8e25e3",
   "metadata": {},
   "outputs": [],
   "source": [
    "def make_batch(buffer_state, key):\n",
    "    key, batch_key, double_batch_key = jax.random.split(key, 3)\n",
    "    # Sample and process transitions\n",
    "    buffer_state, transitions = replay_buffer.sample(buffer_state)\n",
    "    batch_keys = jax.random.split(batch_key, transitions.grid.shape[0])\n",
    "    state, future_state, goal_index = jitted_flatten_batch(config.exp.gamma, transitions, batch_keys)\n",
    "\n",
    "    state, actions, future_state, goal_index = get_single_pair_from_every_env(state, future_state, goal_index, double_batch_key, use_double_batch_trick=config.exp.use_double_batch_trick)\n",
    "    if not config.exp.use_targets:\n",
    "        state = state.replace(grid=GridStatesEnum.remove_targets(state.grid))\n",
    "        future_state = future_state.replace(grid=GridStatesEnum.remove_targets(future_state.grid))\n",
    "    # Create valid batch\n",
    "    batch = {\n",
    "        'observations': state.grid.reshape(state.grid.shape[0], -1),\n",
    "        'next_observations': future_state.grid.reshape(future_state.grid.shape[0], -1),\n",
    "        'actions': actions.squeeze(),\n",
    "        'rewards': state.reward.reshape(state.reward.shape[0], -1),\n",
    "        'masks': 1.0 - state.reward.reshape(state.reward.shape[0], -1), # TODO: add success and reward separately\n",
    "        'value_goals': future_state.grid.reshape(future_state.grid.shape[0], -1),\n",
    "        'actor_goals': jnp.roll(future_state.grid.reshape(future_state.grid.shape[0], -1), shift=1, axis=0),\n",
    "    }\n",
    "    return buffer_state, batch\n",
    "\n",
    "@jax.jit\n",
    "def update_step(carry, _):\n",
    "    buffer_state, agent, key = carry\n",
    "    key, batch_key = jax.random.split(key, 2)\n",
    "    buffer_state, batch = make_batch(buffer_state, batch_key)\n",
    "    agent, update_info = update(agent, batch)\n",
    "    return (buffer_state, agent, key), update_info\n",
    "\n",
    "@jax.jit\n",
    "def train_epoch(carry, _):\n",
    "    buffer_state, agent, key = carry\n",
    "    key, data_key, up_key = jax.random.split(key, 3)\n",
    "    _, _, timesteps = collect_data(agent, data_key, env, config.exp.num_envs, config.env.episode_length, use_targets=config.exp.use_targets, critic_temp=1)\n",
    "    buffer_state = replay_buffer.insert(buffer_state, timesteps)\n",
    "    (buffer_state, agent, _), _ = jax.lax.scan(update_step, (buffer_state, agent, up_key), None, length=1000)\n",
    "    return (buffer_state, agent, key), None\n",
    "\n",
    "\n",
    "@functools.partial(jax.jit, static_argnums=(3,))\n",
    "def train_n_epochs(buffer_state, agent, key, epochs=10):\n",
    "    (buffer_state, agent, key), _ = jax.lax.scan(\n",
    "        train_epoch,\n",
    "        (buffer_state, agent, key),\n",
    "        None,\n",
    "        length=epochs,\n",
    "    )\n",
    "    return buffer_state, agent, key"
   ]
  },
  {
   "cell_type": "code",
   "execution_count": 29,
   "id": "e1f5b588",
   "metadata": {},
   "outputs": [],
   "source": [
    "batch = make_batch(buffer_state, key)[1]"
   ]
  },
  {
   "cell_type": "code",
   "execution_count": 30,
   "id": "09513dfa",
   "metadata": {},
   "outputs": [],
   "source": [
    "if agent.config['actor_log_q']:\n",
    "    def value_transform(x):\n",
    "        return jnp.log(jnp.maximum(x, 1e-6))\n",
    "else:\n",
    "    def value_transform(x):\n",
    "        return x\n",
    "\n",
    "# Maximize log Q if actor_log_q is True (which is default).\n",
    "all_actions = jnp.tile(jnp.arange(6), (batch['observations'].shape[0], 1))  # B x 6\n",
    "qs = jax.lax.stop_gradient(\n",
    "    jax.vmap(agent.network.select(\"critic\"), in_axes=(None, None, 1))(batch['observations'], batch['actor_goals'], all_actions)\n",
    ")  # 6 x 2 x B\n",
    "qs = qs.min(axis=1)  # 6 x B\n",
    "qs = value_transform(qs)\n",
    "qs = qs.transpose(1, 0)  # B x 6\n"
   ]
  },
  {
   "cell_type": "code",
   "execution_count": 31,
   "id": "d4e9c9da",
   "metadata": {},
   "outputs": [
    {
     "name": "stdout",
     "output_type": "stream",
     "text": [
      "(1024, 6)\n"
     ]
    }
   ],
   "source": [
    "print(qs.shape)"
   ]
  },
  {
   "cell_type": "code",
   "execution_count": 32,
   "id": "cd7efba4",
   "metadata": {},
   "outputs": [
    {
     "name": "stdout",
     "output_type": "stream",
     "text": [
      "(1024,)\n"
     ]
    },
    {
     "data": {
      "text/plain": [
       "Array([0, 4, 0, ..., 3, 0, 0], dtype=int32)"
      ]
     },
     "execution_count": 32,
     "metadata": {},
     "output_type": "execute_result"
    }
   ],
   "source": [
    "actions = jnp.argmax(qs, axis=-1)  # B\n",
    "print(actions.shape)\n",
    "actions"
   ]
  },
  {
   "cell_type": "code",
   "execution_count": 33,
   "id": "add768a1",
   "metadata": {},
   "outputs": [
    {
     "name": "stdout",
     "output_type": "stream",
     "text": [
      "(1024, 6)\n"
     ]
    },
    {
     "data": {
      "text/plain": [
       "Array([[0.16666667, 0.16666667, 0.16666667, 0.16666667, 0.16666667,\n",
       "        0.16666667],\n",
       "       [0.11214127, 0.03472083, 0.10371672, 0.0812552 , 0.5943919 ,\n",
       "        0.0737741 ],\n",
       "       [0.16666667, 0.16666667, 0.16666667, 0.16666667, 0.16666667,\n",
       "        0.16666667],\n",
       "       ...,\n",
       "       [0.15660352, 0.07473139, 0.06752883, 0.60500497, 0.08053932,\n",
       "        0.01559196],\n",
       "       [0.16666667, 0.16666667, 0.16666667, 0.16666667, 0.16666667,\n",
       "        0.16666667],\n",
       "       [0.16666667, 0.16666667, 0.16666667, 0.16666667, 0.16666667,\n",
       "        0.16666667]], dtype=float32)"
      ]
     },
     "execution_count": 33,
     "metadata": {},
     "output_type": "execute_result"
    }
   ],
   "source": [
    "actions = jax.nn.softmax(qs, axis=-1)  # B\n",
    "print(actions.shape)\n",
    "actions"
   ]
  },
  {
   "cell_type": "markdown",
   "id": "40d698fe",
   "metadata": {},
   "source": [
    "Note: evey train_n_epochs is 10000 updates"
   ]
  },
  {
   "cell_type": "code",
   "execution_count": 34,
   "id": "c36ad0d9",
   "metadata": {},
   "outputs": [
    {
     "data": {
      "text/plain": [
       "Array(0.29882812, dtype=float32)"
      ]
     },
     "execution_count": 34,
     "metadata": {},
     "output_type": "execute_result"
    }
   ],
   "source": [
    "eval_info_critic = eval_agent(agent, key, config, critic_temp=1)\n",
    "eval_info_critic['eval/mean_reward']"
   ]
  },
  {
   "cell_type": "markdown",
   "id": "2bed53e8",
   "metadata": {},
   "source": [
    "# Distillation"
   ]
  },
  {
   "cell_type": "markdown",
   "id": "6eb996f2",
   "metadata": {},
   "source": [
    "#### Sanity check loss"
   ]
  },
  {
   "cell_type": "code",
   "execution_count": 35,
   "id": "7a2c44a1",
   "metadata": {},
   "outputs": [],
   "source": [
    "batch = make_batch(buffer_state, key)[1]"
   ]
  },
  {
   "cell_type": "code",
   "execution_count": 36,
   "id": "ad144b1b",
   "metadata": {},
   "outputs": [
    {
     "data": {
      "text/plain": [
       "{'actor/actor_loss': Array(1.792247, dtype=float32),\n",
       " 'actor/bc_log_prob': Array(-1.792247, dtype=float32),\n",
       " 'grad/max': Array(0.03255488, dtype=float32),\n",
       " 'grad/min': Array(-0.03248095, dtype=float32),\n",
       " 'grad/norm': Array(0.1783754, dtype=float32)}"
      ]
     },
     "execution_count": 36,
     "metadata": {},
     "output_type": "execute_result"
    }
   ],
   "source": [
    "agent_new, info = update(agent_new, batch)\n",
    "info"
   ]
  },
  {
   "cell_type": "code",
   "execution_count": 37,
   "id": "bdec8f0e",
   "metadata": {},
   "outputs": [
    {
     "data": {
      "text/plain": [
       "{'actor/actor_loss': Array(1.7920253, dtype=float32),\n",
       " 'actor/bc_log_prob': Array(-1.7920253, dtype=float32),\n",
       " 'grad/max': Array(0.02466116, dtype=float32),\n",
       " 'grad/min': Array(-0.00989272, dtype=float32),\n",
       " 'grad/norm': Array(0.132106, dtype=float32)}"
      ]
     },
     "execution_count": 37,
     "metadata": {},
     "output_type": "execute_result"
    }
   ],
   "source": [
    "agent_new, info = update(agent_new, batch)\n",
    "info"
   ]
  },
  {
   "cell_type": "markdown",
   "id": "732f2864",
   "metadata": {},
   "source": [
    "#### Config"
   ]
  },
  {
   "cell_type": "code",
   "execution_count": 38,
   "id": "8360ce46",
   "metadata": {},
   "outputs": [],
   "source": [
    "config = Config(\n",
    "    exp=ExpConfig(seed=0, name=\"test\"),\n",
    "    env=BoxPushingConfig(\n",
    "        grid_size=5,\n",
    "        number_of_boxes_min=3,\n",
    "        number_of_boxes_max=7,\n",
    "        number_of_moving_boxes_max=5\n",
    "    )\n",
    ")\n",
    "agent_new = reset_actor(agent, seed=0, ex_observations=ex_observations, ex_goals=ex_goals)"
   ]
  },
  {
   "cell_type": "markdown",
   "id": "40b7e824",
   "metadata": {},
   "source": [
    "####  Actual Distillation"
   ]
  },
  {
   "cell_type": "code",
   "execution_count": 39,
   "id": "e856369c",
   "metadata": {},
   "outputs": [
    {
     "data": {
      "text/plain": [
       "0.1"
      ]
     },
     "execution_count": 39,
     "metadata": {},
     "output_type": "execute_result"
    }
   ],
   "source": [
    "config.agent.alpha"
   ]
  },
  {
   "cell_type": "code",
   "execution_count": 40,
   "id": "f772ad54",
   "metadata": {},
   "outputs": [
    {
     "name": "stderr",
     "output_type": "stream",
     "text": [
      "2025-08-15 17:44:40.773527: W external/xla/xla/service/gpu/autotuning/dot_search_space.cc:200] All configs were filtered out because none of them sufficiently match the hints. Maybe the hints set does not contain a good representative set of valid configs?Working around this by using the full hints set instead.\n"
     ]
    },
    {
     "name": "stdout",
     "output_type": "stream",
     "text": [
      "Mean reward: 0.00, actor loss: 1.78\n",
      "Mean reward: 0.01, actor loss: 1.70\n",
      "Mean reward: 0.08, actor loss: 1.71\n",
      "Mean reward: 0.10, actor loss: 1.69\n",
      "Mean reward: 0.19, actor loss: 1.68\n",
      "Mean reward: 0.19, actor loss: 1.69\n",
      "Mean reward: 0.22, actor loss: 1.70\n",
      "Mean reward: 0.19, actor loss: 1.69\n",
      "Mean reward: 0.25, actor loss: 1.70\n",
      "Mean reward: 0.24, actor loss: 1.68\n"
     ]
    }
   ],
   "source": [
    "eval_infos = []\n",
    "for i in range(91):\n",
    "    key, new_key = jax.random.split(key, 2)\n",
    "    buffer_state, agent_new, key = train_n_epochs(buffer_state, agent_new, key)\n",
    "    if i%10==0:\n",
    "        eval_info = eval_agent(agent_new, key, config)\n",
    "        eval_infos.append(eval_info)\n",
    "        print(f\"Mean reward: {eval_info['eval/mean_reward']:.2f}, actor loss: {actor_loss(agent_new, batch, None, key)[0]:.2f}\")\n"
   ]
  },
  {
   "cell_type": "code",
   "execution_count": 41,
   "id": "aeb9744a",
   "metadata": {},
   "outputs": [
    {
     "data": {
      "text/plain": [
       "Text(0.5, 1.0, 'Actor distillation training')"
      ]
     },
     "execution_count": 41,
     "metadata": {},
     "output_type": "execute_result"
    },
    {
     "data": {
      "image/png": "[encoded data removed]",
      "text/plain": [
       "<Figure size 640x480 with 1 Axes>"
      ]
     },
     "metadata": {},
     "output_type": "display_data"
    }
   ],
   "source": [
    "mean_rewards = [info['eval/mean_reward'] for info in eval_infos]\n",
    "x_axis = jnp.linspace(0, 900_000, 10)\n",
    "plt.plot(x_axis, mean_rewards, label='Actor distilled')\n",
    "plt.hlines(eval_info_critic['eval/mean_reward'], xmin=x_axis.min(), xmax=x_axis.max(), colors='r', linestyles='dashed', label=\"Softmax(Q)\")\n",
    "plt.legend()\n",
    "plt.ylabel('Mean reward')\n",
    "plt.xlabel('Training steps')\n",
    "plt.title('Actor distillation training')"
   ]
  },
  {
   "cell_type": "markdown",
   "id": "e3cdc27b",
   "metadata": {},
   "source": [
    "### Generalization tests"
   ]
  },
  {
   "cell_type": "code",
   "execution_count": 42,
   "id": "fde448c9",
   "metadata": {},
   "outputs": [],
   "source": [
    "eval_general_actor = eval_agent(agent_new, key, config, None, True)\n",
    "eval_general_q =  eval_agent(agent_new, key, config, 1, True)"
   ]
  },
  {
   "cell_type": "code",
   "execution_count": 43,
   "id": "4d7c136b",
   "metadata": {},
   "outputs": [],
   "source": [
    "mean_reward_general_actor = [eval_general_actor[f'eval_{i}/mean_reward'] for i in range(1,12,2)]\n",
    "mean_reward_general_q = [eval_general_q[f'eval_{i}/mean_reward'] for i in range(1,12,2)]"
   ]
  },
  {
   "cell_type": "code",
   "execution_count": 44,
   "id": "469dee48",
   "metadata": {},
   "outputs": [
    {
     "data": {
      "image/png": "[encoded data removed]",
      "text/plain": [
       "<Figure size 800x500 with 1 Axes>"
      ]
     },
     "metadata": {},
     "output_type": "display_data"
    }
   ],
   "source": [
    "import matplotlib.pyplot as plt\n",
    "import numpy as np\n",
    "\n",
    "x = np.array(range(1, 12, 2))\n",
    "width = 0.35  # bar width\n",
    "\n",
    "fig, ax = plt.subplots(figsize=(8,5))\n",
    "\n",
    "# Shift the bars so they don’t overlap\n",
    "ax.bar(x - width/2, mean_reward_general_actor, width, label='Actor distilled', alpha=0.8, color='tab:blue')\n",
    "ax.bar(x + width/2, mean_reward_general_q, width, label='Softmax(Q)', alpha=0.8, color='tab:orange')\n",
    "\n",
    "ax.set_xlabel('X axis label (e.g., timestep)')\n",
    "ax.set_ylabel('Mean Reward')\n",
    "ax.set_title('Comparison of Mean Rewards in generalization setup')\n",
    "ax.set_xticks(x)\n",
    "ax.legend()\n",
    "ax.grid(axis='y', linestyle='--', alpha=0.7)\n",
    "\n",
    "plt.tight_layout()\n",
    "plt.show()\n"
   ]
  },
  {
   "cell_type": "code",
   "execution_count": null,
   "id": "3019b388",
   "metadata": {},
   "outputs": [],
   "source": []
  }
 ],
 "metadata": {
  "kernelspec": {
   "display_name": "crl-subgoal",
   "language": "python",
   "name": "python3"
  },
  "language_info": {
   "codemirror_mode": {
    "name": "ipython",
    "version": 3
   },
   "file_extension": ".py",
   "mimetype": "text/x-python",
   "name": "python",
   "nbconvert_exporter": "python",
   "pygments_lexer": "ipython3",
   "version": "3.11.4"
  }
 },
 "nbformat": 4,
 "nbformat_minor": 5
}
