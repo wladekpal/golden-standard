{
 "cells": [
  {
   "cell_type": "code",
   "execution_count": 1,
   "id": "9a1b8f8d",
   "metadata": {},
   "outputs": [],
   "source": [
    "# %%\n",
    "import os\n",
    "import sys\n",
    "\n",
    "from matplotlib import animation\n",
    "sys.path.append(\"/home/mbortkie/repos/crl_subgoal/src\")\n",
    "os.environ[\"CUDA_DEVICE_ORDER\"]=\"PCI_BUS_ID\"   \n",
    "os.environ['CUDA_VISIBLE_DEVICES'] = '0'\n",
    "# %%\n",
    "import functools\n",
    "import os\n",
    "import distrax\n",
    "\n",
    "\n",
    "import jax\n",
    "import jax.numpy as jnp\n",
    "from jax import random\n",
    "from typing import Tuple, Dict, Any\n",
    "from dataclasses import dataclass\n",
    "import chex\n",
    "from flax import struct\n",
    "from absl import app, flags\n",
    "from ml_collections import config_flags\n",
    "from impls.agents import agents\n",
    "from config import SRC_ROOT_DIR\n",
    "from envs.block_moving_env import *\n",
    "from train import *\n",
    "from impls.utils.checkpoints import restore_agent, save_agent\n",
    "from config import Config, ExpConfig\n",
    "from envs import legal_envs\n",
    "import matplotlib.pyplot as plt\n",
    "from impls.utils.networks import GCDiscreteActor\n",
    "import copy\n",
    "import numpy as np\n",
    "\n",
    "\n"
   ]
  },
  {
   "cell_type": "code",
   "execution_count": 2,
   "id": "a8e48541",
   "metadata": {},
   "outputs": [],
   "source": [
    "# %%\n",
    "RANGE_GENERALIZATION = [1,2,3,4,5,6,7,9,11]\n",
    "EPISODE_LENGTH = 100\n",
    "NUM_ENVS = 1024\n",
    "CHECKPOINT = 12\n",
    "RUN_NAME = f\"GCQIL_{CHECKPOINT}_ckpt_short_more_data\"\n",
    "MODEL_PATH = \"/home/mbortkie/repos/crl_subgoal/experiments/test_generalization_sc_20250822_221136/runs/same_reward_0.5_expectile_next_state_remove_tgts_FIX_relabeling_future_moving_boxes_5_grid_5_range_3_7_alpha_0.3/\"\n",
    "EPOCHS = 101\n",
    "EVAL_EVERY = 10\n",
    "FIGURES_PATH = f\"/home/mbortkie/repos/crl_subgoal/notebooks/figures/{RUN_NAME}\"\n",
    "GIF_PATH = f\"{FIGURES_PATH}/gifs\"\n",
    "os.makedirs(FIGURES_PATH, exist_ok=True)\n",
    "os.makedirs(GIF_PATH, exist_ok=True)\n"
   ]
  },
  {
   "cell_type": "code",
   "execution_count": 3,
   "id": "96365c60",
   "metadata": {},
   "outputs": [],
   "source": [
    "# %%\n",
    "config = Config(\n",
    "    exp=ExpConfig(seed=0, name=\"test\"),\n",
    "    env=BoxPushingConfig(\n",
    "        grid_size=5,\n",
    "        number_of_boxes_min=3,\n",
    "        number_of_boxes_max=7,\n",
    "        number_of_moving_boxes_max=5\n",
    "    )\n",
    ")\n",
    "\n",
    "# %%\n",
    "env = create_env(config.env)\n",
    "env = AutoResetWrapper(env)\n",
    "key = random.PRNGKey(config.exp.seed)\n",
    "env.step = jax.jit(jax.vmap(env.step))\n",
    "env.reset = jax.jit(jax.vmap(env.reset))\n",
    "partial_flatten = functools.partial(flatten_batch, get_next_obs=config.agent.use_next_obs)\n",
    "jitted_flatten_batch = jax.jit(jax.vmap(partial_flatten, in_axes=(None, 0, 0)), static_argnums=(0,))\n",
    "dummy_timestep = env.get_dummy_timestep(key)\n"
   ]
  },
  {
   "cell_type": "code",
   "execution_count": 4,
   "id": "963e0ca5",
   "metadata": {},
   "outputs": [
    {
     "name": "stdout",
     "output_type": "stream",
     "text": [
      "Restored from /home/mbortkie/repos/crl_subgoal/experiments/test_generalization_sc_20250822_221136/runs/same_reward_0.5_expectile_next_state_remove_tgts_FIX_relabeling_future_moving_boxes_5_grid_5_range_3_7_alpha_0.3//params_12.pkl\n"
     ]
    }
   ],
   "source": [
    "replay_buffer = jit_wrap(\n",
    "    TrajectoryUniformSamplingQueue(\n",
    "        max_replay_size=config.exp.max_replay_size,\n",
    "        dummy_data_sample=dummy_timestep,\n",
    "        sample_batch_size=config.exp.batch_size,\n",
    "        num_envs=config.exp.num_envs,\n",
    "        episode_length=config.env.episode_length,\n",
    "    )\n",
    ")\n",
    "buffer_state = jax.jit(replay_buffer.init)(key)\n",
    "\n",
    "example_batch = {\n",
    "    'observations':dummy_timestep.grid.reshape(1, -1),  # Add batch dimension \n",
    "    'next_observations': dummy_timestep.grid.reshape(1, -1),\n",
    "    'actions': jnp.ones((1,), dtype=jnp.int8) * (env._env.action_space-1), # TODO: make sure it should be the maximal value of action space  # Single action for batch size 1\n",
    "    'rewards': dummy_timestep.reward.reshape(1, -1),\n",
    "    'masks': 1.0 - dummy_timestep.reward.reshape(1, -1), \n",
    "    'value_goals': dummy_timestep.grid.reshape(1, -1),\n",
    "    'actor_goals': dummy_timestep.grid.reshape(1, -1),\n",
    "}\n",
    "\n",
    "# %%\n",
    "agent, config = restore_agent(example_batch, MODEL_PATH, CHECKPOINT)\n",
    "\n",
    "# %%\n",
    "keys = random.split(random.PRNGKey(0), NUM_ENVS)\n",
    "state, info = env.reset(keys)\n",
    "\n",
    "# %%\n",
    "dummy_timestep = env.get_dummy_timestep(key)\n",
    "\n",
    "replay_buffer = jit_wrap(\n",
    "    TrajectoryUniformSamplingQueue(\n",
    "        max_replay_size=config.exp.max_replay_size,\n",
    "        dummy_data_sample=dummy_timestep,\n",
    "        sample_batch_size=config.exp.batch_size,\n",
    "        num_envs=config.exp.num_envs,\n",
    "        episode_length=config.env.episode_length,\n",
    "    )\n",
    ")\n",
    "buffer_state = jax.jit(replay_buffer.init)(key)"
   ]
  },
  {
   "cell_type": "code",
   "execution_count": 5,
   "id": "ea0399cd",
   "metadata": {},
   "outputs": [],
   "source": [
    "@jax.jit\n",
    "def make_batch(buffer_state, key):\n",
    "    key, batch_key, double_batch_key = jax.random.split(key, 3)\n",
    "    # Sample and process transitions\n",
    "    buffer_state, transitions = replay_buffer.sample(buffer_state)\n",
    "    batch_keys = jax.random.split(batch_key, transitions.grid.shape[0])\n",
    "    state, next_state, future_state, goal_index = jitted_flatten_batch(config.exp.gamma, transitions, batch_keys)\n",
    "\n",
    "    state, actions, next_state, future_state, goal_index = get_single_pair_from_every_env(state, next_state, future_state, goal_index, double_batch_key, use_double_batch_trick=config.exp.use_double_batch_trick)\n",
    "    if not config.exp.use_targets:\n",
    "        state = state.replace(grid=GridStatesEnum.remove_targets(state.grid))\n",
    "        next_state = next_state.replace(grid=GridStatesEnum.remove_targets(next_state.grid))\n",
    "        future_state = future_state.replace(grid=GridStatesEnum.remove_targets(future_state.grid))\n",
    "    # Create valid batch\n",
    "    batch = {\n",
    "        'observations': state.grid.reshape(state.grid.shape[0], -1),\n",
    "        'next_observations': next_state.grid.reshape(next_state.grid.shape[0], -1),\n",
    "        'actions': actions.squeeze(),\n",
    "        'rewards': state.reward.reshape(state.reward.shape[0], -1),\n",
    "        'masks': 1.0 - state.reward.reshape(state.reward.shape[0], -1), # TODO: add success and reward separately\n",
    "        'value_goals': future_state.grid.reshape(future_state.grid.shape[0], -1),\n",
    "        'actor_goals': future_state.grid.reshape(future_state.grid.shape[0], -1),\n",
    "    }\n",
    "    return buffer_state, batch\n",
    "\n",
    "def value_transform(x):\n",
    "    return jnp.log(jnp.maximum(x, 1e-6))"
   ]
  },
  {
   "cell_type": "markdown",
   "id": "7c61fc5f",
   "metadata": {},
   "source": [
    "# Data creation"
   ]
  },
  {
   "cell_type": "code",
   "execution_count": 6,
   "id": "b50abfca",
   "metadata": {},
   "outputs": [
    {
     "name": "stderr",
     "output_type": "stream",
     "text": [
      "2025-08-22 22:52:47.221164: W external/xla/xla/service/gpu/autotuning/dot_search_space.cc:200] All configs were filtered out because none of them sufficiently match the hints. Maybe the hints set does not contain a good representative set of valid configs?Working around this by using the full hints set instead.\n"
     ]
    }
   ],
   "source": [
    "data_key = random.PRNGKey(0)\n",
    "_, _, timesteps = collect_data(agent, data_key, env, config.exp.num_envs, config.env.episode_length, use_targets=config.exp.use_targets)\n",
    "buffer_state = replay_buffer.insert(buffer_state, timesteps)"
   ]
  },
  {
   "cell_type": "code",
   "execution_count": 7,
   "id": "d377fa40",
   "metadata": {},
   "outputs": [],
   "source": [
    "batch_keys = jax.random.split(data_key, config.exp.num_envs)"
   ]
  },
  {
   "cell_type": "code",
   "execution_count": 8,
   "id": "ed8bb3c1",
   "metadata": {},
   "outputs": [
    {
     "data": {
      "text/plain": [
       "(1024, 2)"
      ]
     },
     "execution_count": 8,
     "metadata": {},
     "output_type": "execute_result"
    }
   ],
   "source": [
    "batch_keys.shape"
   ]
  },
  {
   "cell_type": "code",
   "execution_count": 9,
   "id": "225bc0ac",
   "metadata": {},
   "outputs": [
    {
     "data": {
      "text/plain": [
       "(1024, 100, 5, 5)"
      ]
     },
     "execution_count": 9,
     "metadata": {},
     "output_type": "execute_result"
    }
   ],
   "source": [
    "timesteps = jax.tree_util.tree_map(lambda x: x.swapaxes(1, 0), timesteps)\n",
    "timesteps.grid.shape"
   ]
  },
  {
   "cell_type": "code",
   "execution_count": 10,
   "id": "1a1817c8",
   "metadata": {},
   "outputs": [],
   "source": [
    "state, next_state, future_state, goal_index = jitted_flatten_batch(config.exp.gamma, timesteps, batch_keys)"
   ]
  },
  {
   "cell_type": "code",
   "execution_count": 11,
   "id": "7cacd555",
   "metadata": {},
   "outputs": [
    {
     "data": {
      "text/plain": [
       "((1024, 99, 5, 5), (1024, 99, 5, 5), (1024, 99, 5, 5))"
      ]
     },
     "execution_count": 11,
     "metadata": {},
     "output_type": "execute_result"
    }
   ],
   "source": [
    "state.grid.shape, next_state.grid.shape, future_state.grid.shape"
   ]
  },
  {
   "cell_type": "code",
   "execution_count": 12,
   "id": "513fdc70",
   "metadata": {},
   "outputs": [
    {
     "name": "stdout",
     "output_type": "stream",
     "text": [
      "________________\n",
      "[[ 0 10  2  0  0]\n",
      " [ 2  1  1  0  0]\n",
      " [ 6  0  0  0  0]\n",
      " [ 2  0  1  2  0]\n",
      " [ 0  0  0  1  1]]\n",
      "[[ 0 10  2  0  0]\n",
      " [ 2  1  1  0  0]\n",
      " [ 2  3  0  0  0]\n",
      " [ 2  0  1  2  0]\n",
      " [ 0  0  0  1  1]]\n",
      "[[ 0 10 10  0  0]\n",
      " [ 2  1  0  0  0]\n",
      " [ 2  0  0  0  0]\n",
      " [ 2  0  0 10  0]\n",
      " [ 0  0  4  0  1]]\n",
      "________________\n",
      "[[ 0 10  2  0  0]\n",
      " [ 2  1  1  0  0]\n",
      " [ 2  3  0  0  0]\n",
      " [ 2  0  1  2  0]\n",
      " [ 0  0  0  1  1]]\n",
      "[[ 0 10  2  0  0]\n",
      " [ 2  1  1  0  0]\n",
      " [ 2  0  3  0  0]\n",
      " [ 2  0  1  2  0]\n",
      " [ 0  0  0  1  1]]\n",
      "[[ 0 10  2  0  0]\n",
      " [ 2  1  1  0  0]\n",
      " [ 2  0  0  3  0]\n",
      " [ 2  0  1  2  0]\n",
      " [ 0  0  0  1  1]]\n",
      "________________\n",
      "[[ 0 10  2  0  0]\n",
      " [ 2  1  1  0  0]\n",
      " [ 2  0  3  0  0]\n",
      " [ 2  0  1  2  0]\n",
      " [ 0  0  0  1  1]]\n",
      "[[ 0 10  2  0  0]\n",
      " [ 2  1  1  0  0]\n",
      " [ 2  0  0  3  0]\n",
      " [ 2  0  1  2  0]\n",
      " [ 0  0  0  1  1]]\n",
      "[[ 0 10  2  0  0]\n",
      " [ 2  1  1  0  0]\n",
      " [ 2  0  0  0  0]\n",
      " [ 2  0  0 10  0]\n",
      " [ 0  0  0  5  1]]\n",
      "________________\n",
      "[[ 0 10  2  0  0]\n",
      " [ 2  1  1  0  0]\n",
      " [ 2  0  0  3  0]\n",
      " [ 2  0  1  2  0]\n",
      " [ 0  0  0  1  1]]\n",
      "[[ 0 10  2  0  0]\n",
      " [ 2  1  1  0  0]\n",
      " [ 2  0  3  0  0]\n",
      " [ 2  0  1  2  0]\n",
      " [ 0  0  0  1  1]]\n",
      "[[ 0 10  2  0  0]\n",
      " [ 2  1  1  0  0]\n",
      " [ 2  0  0  0  0]\n",
      " [ 2  0  0 10  0]\n",
      " [ 0  0  0  5  1]]\n",
      "________________\n",
      "[[ 0 10  2  0  0]\n",
      " [ 2  1  1  0  0]\n",
      " [ 2  0  3  0  0]\n",
      " [ 2  0  1  2  0]\n",
      " [ 0  0  0  1  1]]\n",
      "[[ 0 10  2  0  0]\n",
      " [ 2  1  1  0  0]\n",
      " [ 2  0  0  0  0]\n",
      " [ 2  0  5  2  0]\n",
      " [ 0  0  0  1  1]]\n",
      "[[ 0 10  8  0  0]\n",
      " [ 2  1  1  0  0]\n",
      " [ 2  0  0  0  0]\n",
      " [ 2  0  0 10  0]\n",
      " [ 0  0  0  0  1]]\n",
      "________________\n",
      "[[ 0 10  2  0  0]\n",
      " [ 2  1  1  0  0]\n",
      " [ 2  0  0  0  0]\n",
      " [ 2  0  5  2  0]\n",
      " [ 0  0  0  1  1]]\n",
      "[[ 0 10  2  0  0]\n",
      " [ 2  1  1  0  0]\n",
      " [ 2  0  0  0  0]\n",
      " [ 2  0  4  2  0]\n",
      " [ 0  0  0  1  1]]\n",
      "[[ 0 10  2  0  0]\n",
      " [ 2  1  1  0  0]\n",
      " [ 2  0  0  0  0]\n",
      " [ 2  0  0  9  0]\n",
      " [ 0  0  0  0  1]]\n",
      "________________\n",
      "[[ 0 10  2  0  0]\n",
      " [ 2  1  1  0  0]\n",
      " [ 2  0  0  0  0]\n",
      " [ 2  0  4  2  0]\n",
      " [ 0  0  0  1  1]]\n",
      "[[ 0 10  2  0  0]\n",
      " [ 2  1  1  0  0]\n",
      " [ 2  0  0  0  0]\n",
      " [ 2  0  0  7  0]\n",
      " [ 0  0  0  1  1]]\n",
      "[[ 0 10  2  0  0]\n",
      " [ 2  1  1  0  0]\n",
      " [ 2  0  0  0  0]\n",
      " [ 2  0  0  8  0]\n",
      " [ 0  0  0  1  1]]\n",
      "________________\n",
      "[[ 0 10  2  0  0]\n",
      " [ 2  1  1  0  0]\n",
      " [ 2  0  0  0  0]\n",
      " [ 2  0  0  7  0]\n",
      " [ 0  0  0  1  1]]\n",
      "[[ 0 10  2  0  0]\n",
      " [ 2  1  1  0  0]\n",
      " [ 2  0  0  0  0]\n",
      " [ 2  0  0  8  0]\n",
      " [ 0  0  0  1  1]]\n",
      "[[ 0 10  2  0  0]\n",
      " [ 2  1  1  0  0]\n",
      " [ 2  0  0  0  0]\n",
      " [ 2  0  0  9  0]\n",
      " [ 0  0  0  0  1]]\n",
      "________________\n",
      "[[ 0 10  2  0  0]\n",
      " [ 2  1  1  0  0]\n",
      " [ 2  0  0  0  0]\n",
      " [ 2  0  0  8  0]\n",
      " [ 0  0  0  1  1]]\n",
      "[[ 0 10  2  0  0]\n",
      " [ 2  1  1  0  0]\n",
      " [ 2  0  0  0  0]\n",
      " [ 2  0  0  8  0]\n",
      " [ 0  0  0  1  1]]\n",
      "[[ 0 10 10  0  0]\n",
      " [ 2  1  0  0  0]\n",
      " [ 2  0  0  0  0]\n",
      " [ 2  0  0 10  0]\n",
      " [ 0  0  0  4  1]]\n",
      "________________\n",
      "[[ 0 10  2  0  0]\n",
      " [ 2  1  1  0  0]\n",
      " [ 2  0  0  0  0]\n",
      " [ 2  0  0  8  0]\n",
      " [ 0  0  0  1  1]]\n",
      "[[ 0 10  2  0  0]\n",
      " [ 2  1  1  0  0]\n",
      " [ 2  0  0  0  0]\n",
      " [ 2  0  0  8  0]\n",
      " [ 0  0  0  1  1]]\n",
      "[[ 0 10 10  0  0]\n",
      " [ 2  1  0  4  0]\n",
      " [ 2  0  0  0  0]\n",
      " [ 2  0  0 10  0]\n",
      " [ 0  0  0  0  1]]\n",
      "________________\n",
      "[[ 0 10  2  0  0]\n",
      " [ 2  1  1  0  0]\n",
      " [ 2  0  0  0  0]\n",
      " [ 2  0  0  8  0]\n",
      " [ 0  0  0  1  1]]\n",
      "[[ 0 10  2  0  0]\n",
      " [ 2  1  1  0  0]\n",
      " [ 2  0  0  0  0]\n",
      " [ 2  0  0 10  3]\n",
      " [ 0  0  0  1  1]]\n",
      "[[ 0 10  2  0  0]\n",
      " [ 2  1  1  0  0]\n",
      " [ 2  0  0  0  0]\n",
      " [ 2  0  0  9  0]\n",
      " [ 0  0  0  0  1]]\n",
      "________________\n",
      "[[ 0 10  2  0  0]\n",
      " [ 2  1  1  0  0]\n",
      " [ 2  0  0  0  0]\n",
      " [ 2  0  0 10  3]\n",
      " [ 0  0  0  1  1]]\n",
      "[[ 0 10  2  0  0]\n",
      " [ 2  1  1  0  0]\n",
      " [ 2  0  0  0  0]\n",
      " [ 2  0  0 10  3]\n",
      " [ 0  0  0  1  1]]\n",
      "[[ 0 10 10  0  0]\n",
      " [ 2  1  0  4  0]\n",
      " [ 2  0  0  0  0]\n",
      " [ 2  0  0 10  0]\n",
      " [ 0  0  0  0  1]]\n",
      "________________\n",
      "[[ 0 10  2  0  0]\n",
      " [ 2  1  1  0  0]\n",
      " [ 2  0  0  0  0]\n",
      " [ 2  0  0 10  3]\n",
      " [ 0  0  0  1  1]]\n",
      "[[ 0 10  2  0  0]\n",
      " [ 2  1  1  0  0]\n",
      " [ 2  0  0  0  0]\n",
      " [ 2  0  0 10  3]\n",
      " [ 0  0  0  1  1]]\n",
      "[[ 0 10 10  0  0]\n",
      " [ 2  1  0  0  0]\n",
      " [ 2  0  4  0  0]\n",
      " [ 2  0  0 10  0]\n",
      " [ 0  0  0  0  1]]\n",
      "________________\n",
      "[[ 0 10  2  0  0]\n",
      " [ 2  1  1  0  0]\n",
      " [ 2  0  0  0  0]\n",
      " [ 2  0  0 10  3]\n",
      " [ 0  0  0  1  1]]\n",
      "[[ 0 10  2  0  0]\n",
      " [ 2  1  1  0  0]\n",
      " [ 2  0  0  0  0]\n",
      " [ 2  0  0 10  3]\n",
      " [ 0  0  0  1  1]]\n",
      "[[ 0 10  8  0  0]\n",
      " [ 2  1  1  0  0]\n",
      " [ 2  0  0  0  0]\n",
      " [ 2  0  0 10  0]\n",
      " [ 0  0  0  0  1]]\n",
      "________________\n",
      "[[ 0 10  2  0  0]\n",
      " [ 2  1  1  0  0]\n",
      " [ 2  0  0  0  0]\n",
      " [ 2  0  0 10  3]\n",
      " [ 0  0  0  1  1]]\n",
      "[[ 0 10  2  0  0]\n",
      " [ 2  1  1  0  0]\n",
      " [ 2  0  0  0  0]\n",
      " [ 2  0  0  8  0]\n",
      " [ 0  0  0  1  1]]\n",
      "[[ 0 10 10  0  0]\n",
      " [ 2  1  0  0  0]\n",
      " [ 2  0  0  0  4]\n",
      " [ 2  0  0 10  0]\n",
      " [ 0  0  0  0  1]]\n",
      "________________\n",
      "[[ 0 10  2  0  0]\n",
      " [ 2  1  1  0  0]\n",
      " [ 2  0  0  0  0]\n",
      " [ 2  0  0  8  0]\n",
      " [ 0  0  0  1  1]]\n",
      "[[ 0 10  2  0  0]\n",
      " [ 2  1  1  0  0]\n",
      " [ 2  0  0  0  0]\n",
      " [ 2  0  0 10  0]\n",
      " [ 0  0  0  5  1]]\n",
      "[[ 0 10  2  0  0]\n",
      " [ 2  1  1  0  0]\n",
      " [ 2  0  4  0  0]\n",
      " [ 2  0  0 10  0]\n",
      " [ 0  0  0  0  1]]\n",
      "________________\n",
      "[[ 0 10  2  0  0]\n",
      " [ 2  1  1  0  0]\n",
      " [ 2  0  0  0  0]\n",
      " [ 2  0  0 10  0]\n",
      " [ 0  0  0  5  1]]\n",
      "[[ 0 10  2  0  0]\n",
      " [ 2  1  1  0  0]\n",
      " [ 2  0  0  0  0]\n",
      " [ 2  0  0  8  0]\n",
      " [ 0  0  0  1  1]]\n",
      "[[ 0 10 10  0  0]\n",
      " [ 2  1  0  4  0]\n",
      " [ 2  0  0  0  0]\n",
      " [ 2  0  0 10  0]\n",
      " [ 0  0  0  0  1]]\n",
      "________________\n",
      "[[ 0 10  2  0  0]\n",
      " [ 2  1  1  0  0]\n",
      " [ 2  0  0  0  0]\n",
      " [ 2  0  0  8  0]\n",
      " [ 0  0  0  1  1]]\n",
      "[[ 0 10  2  0  0]\n",
      " [ 2  1  1  0  0]\n",
      " [ 2  0  0  0  0]\n",
      " [ 2  0  0  8  0]\n",
      " [ 0  0  0  1  1]]\n",
      "[[ 0 10  8  0  0]\n",
      " [ 2  1  1  0  0]\n",
      " [ 2  0  0  0  0]\n",
      " [ 2  0  0 10  0]\n",
      " [ 0  0  0  0  1]]\n",
      "________________\n",
      "[[ 0 10  2  0  0]\n",
      " [ 2  1  1  0  0]\n",
      " [ 2  0  0  0  0]\n",
      " [ 2  0  0  8  0]\n",
      " [ 0  0  0  1  1]]\n",
      "[[ 0 10  2  0  0]\n",
      " [ 2  1  1  0  0]\n",
      " [ 2  0  0  0  0]\n",
      " [ 2  0  0  8  0]\n",
      " [ 0  0  0  1  1]]\n",
      "[[ 0 10  2  0  0]\n",
      " [ 2  1  1  0  0]\n",
      " [ 2  0  0  0  0]\n",
      " [ 2  0  0  9  0]\n",
      " [ 0  0  0  0  1]]\n",
      "________________\n",
      "[[ 0 10  2  0  0]\n",
      " [ 2  1  1  0  0]\n",
      " [ 2  0  0  0  0]\n",
      " [ 2  0  0  8  0]\n",
      " [ 0  0  0  1  1]]\n",
      "[[ 0 10  2  0  0]\n",
      " [ 2  1  1  0  0]\n",
      " [ 2  0  0  0  0]\n",
      " [ 2  0  0 10  0]\n",
      " [ 0  0  0  5  1]]\n",
      "[[ 0 10  2  0  0]\n",
      " [ 2  1  1  0  0]\n",
      " [ 2  0  0  0  0]\n",
      " [ 2  0  0  9  0]\n",
      " [ 0  0  0  0  1]]\n",
      "________________\n",
      "[[ 0 10  2  0  0]\n",
      " [ 2  1  1  0  0]\n",
      " [ 2  0  0  0  0]\n",
      " [ 2  0  0 10  0]\n",
      " [ 0  0  0  5  1]]\n",
      "[[ 0 10  2  0  0]\n",
      " [ 2  1  1  0  0]\n",
      " [ 2  0  0  0  0]\n",
      " [ 2  0  0 10  0]\n",
      " [ 0  0  0  4  1]]\n",
      "[[ 0 10 10  0  0]\n",
      " [ 2  1  0  0  0]\n",
      " [ 2  0  0  0  0]\n",
      " [ 2  0  0 10  0]\n",
      " [ 0  0  0  4  1]]\n",
      "________________\n",
      "[[ 0 10  2  0  0]\n",
      " [ 2  1  1  0  0]\n",
      " [ 2  0  0  0  0]\n",
      " [ 2  0  0 10  0]\n",
      " [ 0  0  0  4  1]]\n",
      "[[ 0 10  2  0  0]\n",
      " [ 2  1  1  0  0]\n",
      " [ 2  0  0  0  0]\n",
      " [ 2  0  0 10  0]\n",
      " [ 0  0  0  0 11]]\n",
      "[[ 0 10  8  0  0]\n",
      " [ 2  1  1  0  0]\n",
      " [ 2  0  0  0  0]\n",
      " [ 2  0  0 10  0]\n",
      " [ 0  0  0  0  1]]\n",
      "________________\n",
      "[[ 0 10  2  0  0]\n",
      " [ 2  1  1  0  0]\n",
      " [ 2  0  0  0  0]\n",
      " [ 2  0  0 10  0]\n",
      " [ 0  0  0  0 11]]\n",
      "[[ 0 10  2  0  0]\n",
      " [ 2  1  1  0  0]\n",
      " [ 2  0  0  0  0]\n",
      " [ 2  0  0 10  0]\n",
      " [ 0  0  0  0 11]]\n",
      "[[ 0 10 10  0  0]\n",
      " [ 2  1  0  0  0]\n",
      " [ 2  0  0  0  4]\n",
      " [ 2  0  0 10  0]\n",
      " [ 0  0  0  0  1]]\n",
      "________________\n",
      "[[ 0 10  2  0  0]\n",
      " [ 2  1  1  0  0]\n",
      " [ 2  0  0  0  0]\n",
      " [ 2  0  0 10  0]\n",
      " [ 0  0  0  0 11]]\n",
      "[[ 0 10  2  0  0]\n",
      " [ 2  1  1  0  0]\n",
      " [ 2  0  0  0  0]\n",
      " [ 2  0  0 10  0]\n",
      " [ 0  0  0  4  1]]\n",
      "[[ 0 10 10  0  0]\n",
      " [ 2  1  0  0  4]\n",
      " [ 2  0  0  0  0]\n",
      " [ 2  0  0 10  0]\n",
      " [ 0  0  0  0  1]]\n",
      "________________\n",
      "[[ 0 10  2  0  0]\n",
      " [ 2  1  1  0  0]\n",
      " [ 2  0  0  0  0]\n",
      " [ 2  0  0 10  0]\n",
      " [ 0  0  0  4  1]]\n",
      "[[ 0 10  2  0  0]\n",
      " [ 2  1  1  0  0]\n",
      " [ 2  0  0  0  0]\n",
      " [ 2  0  0 10  0]\n",
      " [ 0  0  0  4  1]]\n",
      "[[ 0 10 10  0  0]\n",
      " [ 2  1  0  4  0]\n",
      " [ 2  0  0  0  0]\n",
      " [ 2  0  0 10  0]\n",
      " [ 0  0  0  0  1]]\n",
      "________________\n",
      "[[ 0 10  2  0  0]\n",
      " [ 2  1  1  0  0]\n",
      " [ 2  0  0  0  0]\n",
      " [ 2  0  0 10  0]\n",
      " [ 0  0  0  4  1]]\n",
      "[[ 0 10  2  0  0]\n",
      " [ 2  1  1  0  0]\n",
      " [ 2  0  0  0  0]\n",
      " [ 2  0  0 10  0]\n",
      " [ 0  0  0  0 11]]\n",
      "[[ 0 10  8  0  0]\n",
      " [ 2  1  1  0  0]\n",
      " [ 2  0  0  0  0]\n",
      " [ 2  0  0 10  0]\n",
      " [ 0  0  0  0  1]]\n",
      "________________\n",
      "[[ 0 10  2  0  0]\n",
      " [ 2  1  1  0  0]\n",
      " [ 2  0  0  0  0]\n",
      " [ 2  0  0 10  0]\n",
      " [ 0  0  0  0 11]]\n",
      "[[ 0 10  2  0  0]\n",
      " [ 2  1  1  0  0]\n",
      " [ 2  0  0  0  0]\n",
      " [ 2  0  0 10  0]\n",
      " [ 0  0  0  4  1]]\n",
      "[[ 0 10 10  0  0]\n",
      " [ 2  1  0  0  0]\n",
      " [ 2  0  0  0  4]\n",
      " [ 2  0  0 10  0]\n",
      " [ 0  0  0  0  1]]\n",
      "________________\n",
      "[[ 0 10  2  0  0]\n",
      " [ 2  1  1  0  0]\n",
      " [ 2  0  0  0  0]\n",
      " [ 2  0  0 10  0]\n",
      " [ 0  0  0  4  1]]\n",
      "[[ 0 10  2  0  0]\n",
      " [ 2  1  1  0  0]\n",
      " [ 2  0  0  0  0]\n",
      " [ 2  0  0 10  0]\n",
      " [ 0  0  0  0 11]]\n",
      "[[ 0 10 10  0  0]\n",
      " [ 2  1  0  0  0]\n",
      " [ 2  0  0  0  0]\n",
      " [ 2  0  4 10  0]\n",
      " [ 0  0  0  0  1]]\n",
      "________________\n",
      "[[ 0 10  2  0  0]\n",
      " [ 2  1  1  0  0]\n",
      " [ 2  0  0  0  0]\n",
      " [ 2  0  0 10  0]\n",
      " [ 0  0  0  0 11]]\n",
      "[[ 0 10  2  0  0]\n",
      " [ 2  1  1  0  0]\n",
      " [ 2  0  0  0  0]\n",
      " [ 2  0  0 10  4]\n",
      " [ 0  0  0  0  1]]\n",
      "[[ 0 10 10  0  0]\n",
      " [ 2  1  0  0  0]\n",
      " [ 2  0  0  0  0]\n",
      " [ 2  0  4 10  0]\n",
      " [ 0  0  0  0  1]]\n",
      "________________\n",
      "[[ 0 10  2  0  0]\n",
      " [ 2  1  1  0  0]\n",
      " [ 2  0  0  0  0]\n",
      " [ 2  0  0 10  4]\n",
      " [ 0  0  0  0  1]]\n",
      "[[ 0 10  2  0  0]\n",
      " [ 2  1  1  0  0]\n",
      " [ 2  0  0  0  0]\n",
      " [ 2  0  0 10  4]\n",
      " [ 0  0  0  0  1]]\n",
      "[[ 0 10  8  0  0]\n",
      " [ 2  1  1  0  0]\n",
      " [ 2  0  0  0  0]\n",
      " [ 2  0  0 10  0]\n",
      " [ 0  0  0  0  1]]\n"
     ]
    }
   ],
   "source": [
    "for i in range(30):\n",
    "    print(\"________________\")\n",
    "    print(state.grid[0, i])\n",
    "    print(next_state.grid[0, i])\n",
    "    print(future_state.grid[0, i])"
   ]
  },
  {
   "cell_type": "code",
   "execution_count": 13,
   "id": "64ec9109",
   "metadata": {},
   "outputs": [
    {
     "data": {
      "text/plain": [
       "Array([[1, 1, 1, 1, 1, 1, 1, 1, 1, 1, 2, 2, 2, 2, 1, 2, 1, 1, 1, 2, 2, 2,\n",
       "        2, 2, 2, 2, 2, 2, 2, 2, 2, 1, 1, 1, 2, 2, 1, 1, 1, 1, 1, 2, 2, 2,\n",
       "        2, 2, 2, 2, 2, 2, 2, 2, 2, 2, 3, 3, 3, 2, 3, 3, 3, 3, 3, 3, 3, 3,\n",
       "        3, 3, 3, 3, 3, 3, 3, 3, 2, 3, 3, 3, 3, 3, 3, 3, 3, 3, 3, 3, 3, 3,\n",
       "        3, 3, 3, 3, 3, 3, 3, 3, 3, 3, 3],\n",
       "       [0, 0, 0, 0, 0, 0, 0, 0, 0, 0, 0, 0, 0, 0, 0, 0, 0, 0, 0, 0, 0, 0,\n",
       "        1, 1, 1, 1, 1, 1, 1, 1, 1, 1, 1, 1, 1, 1, 1, 1, 1, 1, 1, 1, 1, 1,\n",
       "        1, 1, 1, 1, 1, 1, 2, 1, 1, 2, 1, 1, 1, 2, 2, 2, 2, 2, 2, 2, 2, 2,\n",
       "        2, 2, 2, 2, 2, 2, 2, 2, 2, 2, 2, 2, 2, 2, 2, 2, 2, 2, 2, 2, 2, 2,\n",
       "        2, 2, 2, 2, 2, 2, 2, 2, 2, 2, 2]], dtype=int32)"
      ]
     },
     "execution_count": 13,
     "metadata": {},
     "output_type": "execute_result"
    }
   ],
   "source": [
    "jnp.sum(next_state.grid == GridStatesEnum.BOX_ON_TARGET, axis=(-1,-2))[:2]"
   ]
  },
  {
   "cell_type": "code",
   "execution_count": 14,
   "id": "e714fb47",
   "metadata": {},
   "outputs": [
    {
     "data": {
      "text/plain": [
       "Array([[1, 1, 1, 1, 1, 1, 1, 2, 2, 2, 2, 2, 2, 2, 2, 2, 2, 2, 2, 2, 2, 2,\n",
       "        2, 2, 2, 2, 2, 2, 2, 2, 2, 2, 2, 2, 2, 2, 2, 2, 2, 2, 2, 2, 2, 2,\n",
       "        2, 2, 2, 2, 3, 3, 3, 3, 3, 3, 3, 3, 3, 3, 3, 3, 3, 3, 3, 3, 3, 3,\n",
       "        3, 3, 3, 3, 3, 3, 3, 3, 3, 3, 3, 3, 3, 3, 3, 3, 3, 3, 3, 3, 3, 3,\n",
       "        3, 3, 3, 3, 3, 3, 3, 3, 3, 3, 3],\n",
       "       [0, 0, 0, 0, 0, 0, 0, 0, 0, 0, 0, 0, 0, 0, 0, 0, 0, 0, 1, 1, 1, 1,\n",
       "        1, 1, 1, 1, 1, 1, 1, 1, 1, 1, 1, 1, 1, 1, 1, 1, 1, 1, 1, 1, 1, 1,\n",
       "        1, 1, 1, 1, 2, 2, 2, 2, 2, 2, 2, 2, 2, 2, 2, 2, 2, 2, 2, 2, 2, 2,\n",
       "        2, 2, 2, 2, 2, 2, 2, 2, 2, 2, 2, 2, 2, 2, 2, 2, 2, 2, 2, 2, 2, 2,\n",
       "        2, 2, 2, 2, 2, 2, 2, 2, 2, 2, 2]], dtype=int32)"
      ]
     },
     "execution_count": 14,
     "metadata": {},
     "output_type": "execute_result"
    }
   ],
   "source": [
    "(jnp.sum(next_state.grid == GridStatesEnum.BOX_ON_TARGET, axis=(-1,-2))\n",
    "+ jnp.sum(next_state.grid == GridStatesEnum.AGENT_ON_TARGET_WITH_BOX, axis=(-1,-2))\n",
    "+ jnp.sum(next_state.grid == GridStatesEnum.AGENT_ON_TARGET_WITH_BOX_CARRYING_BOX, axis=(-1,-2)))[:2]"
   ]
  },
  {
   "cell_type": "markdown",
   "id": "e880091d",
   "metadata": {},
   "source": [
    "# Reward relabelling"
   ]
  },
  {
   "cell_type": "code",
   "execution_count": 15,
   "id": "f594404c",
   "metadata": {},
   "outputs": [],
   "source": [
    "boxes_on_targets_next = (\n",
    "    jnp.sum(next_state.grid == GridStatesEnum.BOX_ON_TARGET,  axis=(-1,-2))\n",
    "    + jnp.sum(next_state.grid == GridStatesEnum.AGENT_ON_TARGET_WITH_BOX,  axis=(-1,-2))\n",
    "    + jnp.sum(next_state.grid == GridStatesEnum.AGENT_ON_TARGET_WITH_BOX_CARRYING_BOX, axis=(-1,-2))\n",
    ")\n",
    "boxes_on_targets_future = (\n",
    "    jnp.sum(future_state.grid == GridStatesEnum.BOX_ON_TARGET,  axis=(-1,-2))\n",
    "    + jnp.sum(future_state.grid == GridStatesEnum.AGENT_ON_TARGET_WITH_BOX,  axis=(-1,-2))\n",
    "    + jnp.sum(future_state.grid == GridStatesEnum.AGENT_ON_TARGET_WITH_BOX_CARRYING_BOX,  axis=(-1,-2))\n",
    ")"
   ]
  },
  {
   "cell_type": "code",
   "execution_count": 16,
   "id": "ec7c2334",
   "metadata": {},
   "outputs": [
    {
     "data": {
      "text/plain": [
       "Array([[3, 1, 2, ..., 3, 3, 3],\n",
       "       [0, 2, 0, ..., 2, 2, 2],\n",
       "       [3, 2, 3, ..., 4, 4, 4],\n",
       "       ...,\n",
       "       [2, 4, 3, ..., 6, 6, 6],\n",
       "       [3, 5, 3, ..., 6, 6, 6],\n",
       "       [4, 1, 3, ..., 5, 5, 5]], dtype=int32)"
      ]
     },
     "execution_count": 16,
     "metadata": {},
     "output_type": "execute_result"
    }
   ],
   "source": [
    "boxes_on_targets_future"
   ]
  },
  {
   "cell_type": "code",
   "execution_count": 17,
   "id": "eed8f5be",
   "metadata": {},
   "outputs": [
    {
     "data": {
      "text/plain": [
       "Array([[0., 1., 0., 0., 0., 0., 0., 1., 0., 0., 1., 0., 0., 0., 0., 1.,\n",
       "        0., 0., 1., 1., 0., 0., 0., 0., 0., 0., 0., 0., 0., 0., 0., 1.,\n",
       "        0., 1., 0., 0., 0., 1., 0., 0., 0., 0., 0., 0., 0., 0., 0., 0.,\n",
       "        1., 1., 1., 1., 1., 1., 1., 1., 1., 1., 1., 1., 1., 1., 1., 1.,\n",
       "        1., 1., 1., 1., 1., 1., 1., 1., 1., 1., 1., 1., 1., 1., 1., 1.,\n",
       "        1., 1., 1., 1., 1., 1., 1., 1., 1., 1., 1., 1., 1., 1., 1., 1.,\n",
       "        1., 1., 1.],\n",
       "       [1., 0., 1., 0., 0., 1., 0., 0., 0., 0., 0., 0., 0., 0., 0., 0.,\n",
       "        0., 0., 0., 1., 0., 0., 0., 1., 0., 0., 0., 1., 0., 1., 1., 1.,\n",
       "        0., 1., 0., 0., 1., 0., 0., 0., 1., 0., 1., 0., 0., 0., 0., 0.,\n",
       "        1., 1., 1., 1., 1., 1., 1., 1., 1., 1., 1., 1., 1., 1., 1., 1.,\n",
       "        1., 1., 1., 1., 1., 1., 1., 1., 1., 1., 1., 1., 1., 1., 1., 1.,\n",
       "        1., 1., 1., 1., 1., 1., 1., 1., 1., 1., 1., 1., 1., 1., 1., 1.,\n",
       "        1., 1., 1.]], dtype=float16)"
      ]
     },
     "execution_count": 17,
     "metadata": {},
     "output_type": "execute_result"
    }
   ],
   "source": [
    "jnp.array((boxes_on_targets_future-boxes_on_targets_next)[:2]==0, dtype=jnp.float16)"
   ]
  },
  {
   "cell_type": "markdown",
   "id": "64bf666a",
   "metadata": {},
   "source": [
    "# GCQIL investigation"
   ]
  },
  {
   "cell_type": "code",
   "execution_count": 18,
   "id": "2296559f",
   "metadata": {},
   "outputs": [],
   "source": [
    "def expectile_loss(adv, diff, expectile):\n",
    "    \"\"\"Compute the expectile loss.\"\"\"\n",
    "    weight = jnp.where(adv >= 0, expectile, (1 - expectile))\n",
    "    return weight * (diff**2)\n",
    "\n",
    "def value_loss(agent, batch, grad_params):\n",
    "    \"\"\"Compute the IQL value loss.\"\"\"\n",
    "    q1, q2 = agent.network.select('target_critic')(batch['observations'], batch['value_goals'], batch['actions'])\n",
    "    q = jnp.minimum(q1, q2)\n",
    "    v = agent.network.select('value')(batch['observations'], batch['value_goals'], params=grad_params)\n",
    "    value_loss = agent.expectile_loss(q - v, q - v, agent.config['expectile']).mean()\n",
    "\n",
    "    return value_loss, {\n",
    "        'value_loss': value_loss,\n",
    "        'v_mean': v.mean(),\n",
    "        'v_max': v.max(),\n",
    "        'v_min': v.min(),\n",
    "    }\n",
    "\n",
    "def critic_loss(agent, batch, grad_params):\n",
    "    \"\"\"Compute the IQL critic loss.\"\"\"\n",
    "    next_v = agent.network.select('value')(batch['next_observations'], batch['value_goals'])\n",
    "    q = batch['rewards'] + agent.config['discount'] * batch['masks'] * next_v\n",
    "\n",
    "    q1, q2 = agent.network.select('critic')(\n",
    "        batch['observations'], batch['value_goals'], batch['actions'], params=grad_params\n",
    "    )\n",
    "    critic_loss = ((q1 - q) ** 2 + (q2 - q) ** 2).mean()\n",
    "\n",
    "    return critic_loss, {\n",
    "        'critic_loss': critic_loss,\n",
    "        'q_mean': q.mean(),\n",
    "        'q_max': q.max(),\n",
    "        'q_min': q.min(),\n",
    "    }"
   ]
  },
  {
   "cell_type": "code",
   "execution_count": 19,
   "id": "7e795e0f",
   "metadata": {},
   "outputs": [],
   "source": [
    "key = jax.random.PRNGKey(2)\n",
    "buffer_state, batch = make_batch(buffer_state, key)"
   ]
  },
  {
   "cell_type": "code",
   "execution_count": 20,
   "id": "7d172d7f",
   "metadata": {},
   "outputs": [
    {
     "name": "stdout",
     "output_type": "stream",
     "text": [
      "actions: (1024,)\n",
      "actor_goals: (1024, 25)\n",
      "masks: (1024, 1)\n",
      "next_observations: (1024, 25)\n",
      "observations: (1024, 25)\n",
      "rewards: (1024, 1)\n",
      "value_goals: (1024, 25)\n"
     ]
    }
   ],
   "source": [
    "for k, v in batch.items():\n",
    "    print(f\"{k}: {v.shape}\")"
   ]
  },
  {
   "cell_type": "code",
   "execution_count": 21,
   "id": "cf25cf2a",
   "metadata": {},
   "outputs": [
    {
     "data": {
      "text/plain": [
       "Array([0, 0, 0, 0, 0, 1, 0, 0, 0, 0, 0, 0, 1, 1, 0, 0, 0, 0, 0, 0, 0, 0,\n",
       "       0, 0, 0, 0, 0, 0, 0, 0, 0, 0, 0, 0, 0, 0, 0, 0, 0, 1, 0, 0, 0, 0,\n",
       "       0, 0, 0, 0, 0, 0, 0, 0, 0, 0, 0, 0, 0, 1, 1, 0, 1, 0, 1, 0, 0, 0,\n",
       "       0, 0, 0, 0, 0, 0, 0, 0, 0, 0, 0, 0, 0, 0, 0, 0, 0, 0, 0, 0, 0, 0,\n",
       "       0, 0, 0, 0, 0, 0, 0, 0, 0, 0, 0, 0], dtype=int8)"
      ]
     },
     "execution_count": 21,
     "metadata": {},
     "output_type": "execute_result"
    }
   ],
   "source": [
    "batch['rewards'].squeeze()[:100]"
   ]
  },
  {
   "cell_type": "code",
   "execution_count": 22,
   "id": "6be760a2",
   "metadata": {},
   "outputs": [
    {
     "name": "stderr",
     "output_type": "stream",
     "text": [
      "2025-08-22 22:53:02.938828: W external/xla/xla/service/gpu/autotuning/dot_search_space.cc:200] All configs were filtered out because none of them sufficiently match the hints. Maybe the hints set does not contain a good representative set of valid configs?Working around this by using the full hints set instead.\n"
     ]
    },
    {
     "data": {
      "text/plain": [
       "(Array(2.953126e-11, dtype=float32),\n",
       " {'value_loss': Array(2.953126e-11, dtype=float32),\n",
       "  'v_mean': Array(0.77267396, dtype=float32),\n",
       "  'v_max': Array(0.7726959, dtype=float32),\n",
       "  'v_min': Array(0.7726529, dtype=float32)})"
      ]
     },
     "execution_count": 22,
     "metadata": {},
     "output_type": "execute_result"
    }
   ],
   "source": [
    "value_loss(agent, batch, None)"
   ]
  },
  {
   "cell_type": "code",
   "execution_count": 47,
   "id": "036c1488",
   "metadata": {},
   "outputs": [
    {
     "data": {
      "text/plain": [
       "Array([[0, 0, 0, 0, 0],\n",
       "       [0, 0, 0, 0, 1],\n",
       "       [1, 0, 0, 0, 0],\n",
       "       [3, 0, 0, 0, 0],\n",
       "       [1, 0, 0, 1, 0]], dtype=int8)"
      ]
     },
     "execution_count": 47,
     "metadata": {},
     "output_type": "execute_result"
    }
   ],
   "source": [
    "batch['observations'][3].reshape(5,5)"
   ]
  },
  {
   "cell_type": "code",
   "execution_count": 48,
   "id": "22397618",
   "metadata": {},
   "outputs": [
    {
     "data": {
      "text/plain": [
       "Array([[0, 0, 0, 0, 0],\n",
       "       [0, 0, 0, 0, 1],\n",
       "       [1, 0, 0, 0, 0],\n",
       "       [0, 0, 0, 0, 0],\n",
       "       [5, 0, 0, 1, 0]], dtype=int8)"
      ]
     },
     "execution_count": 48,
     "metadata": {},
     "output_type": "execute_result"
    }
   ],
   "source": [
    "batch['next_observations'][3].reshape(5,5)"
   ]
  },
  {
   "cell_type": "code",
   "execution_count": 25,
   "id": "7bc180d2",
   "metadata": {},
   "outputs": [],
   "source": [
    "q1, q2 = agent.network.select('target_critic')(batch['observations'], batch['value_goals'], batch['actions'])"
   ]
  },
  {
   "cell_type": "code",
   "execution_count": 26,
   "id": "4360dfc0",
   "metadata": {},
   "outputs": [
    {
     "data": {
      "text/plain": [
       "(Array(0.7726741, dtype=float32),\n",
       " Array(0.772676, dtype=float32),\n",
       " Array(0.77267134, dtype=float32))"
      ]
     },
     "execution_count": 26,
     "metadata": {},
     "output_type": "execute_result"
    }
   ],
   "source": [
    "q1.mean(), q1.max(), q1.min()"
   ]
  },
  {
   "cell_type": "code",
   "execution_count": 27,
   "id": "907c6917",
   "metadata": {},
   "outputs": [
    {
     "data": {
      "text/plain": [
       "(Array(0.77267534, dtype=float32),\n",
       " Array(0.7727233, dtype=float32),\n",
       " Array(0.77264476, dtype=float32))"
      ]
     },
     "execution_count": 27,
     "metadata": {},
     "output_type": "execute_result"
    }
   ],
   "source": [
    "q2.mean(), q2.max(), q2.min()"
   ]
  },
  {
   "cell_type": "code",
   "execution_count": 28,
   "id": "6fc3e415",
   "metadata": {},
   "outputs": [
    {
     "data": {
      "text/plain": [
       "(Array(0.7726742, dtype=float32),\n",
       " Array(0.7727013, dtype=float32),\n",
       " Array(0.77264297, dtype=float32))"
      ]
     },
     "execution_count": 28,
     "metadata": {},
     "output_type": "execute_result"
    }
   ],
   "source": [
    "next_v = agent.network.select('value')(batch['next_observations'], batch['value_goals'])\n",
    "next_v.mean(), next_v.max(), next_v.min()"
   ]
  },
  {
   "cell_type": "code",
   "execution_count": 29,
   "id": "abb0c477",
   "metadata": {},
   "outputs": [
    {
     "data": {
      "text/plain": [
       "Array([[1.],\n",
       "       [1.],\n",
       "       [1.],\n",
       "       ...,\n",
       "       [1.],\n",
       "       [1.],\n",
       "       [1.]], dtype=float32, weak_type=True)"
      ]
     },
     "execution_count": 29,
     "metadata": {},
     "output_type": "execute_result"
    }
   ],
   "source": [
    "batch['masks']"
   ]
  },
  {
   "cell_type": "code",
   "execution_count": 30,
   "id": "1479b4ad",
   "metadata": {},
   "outputs": [
    {
     "data": {
      "text/plain": [
       "Array([[0.76494855, 0.76494765, 0.7649525 , ..., 0.76495105, 0.7649447 ,\n",
       "        0.76493776],\n",
       "       [0.76494855, 0.76494765, 0.7649525 , ..., 0.76495105, 0.7649447 ,\n",
       "        0.76493776],\n",
       "       [0.76494855, 0.76494765, 0.7649525 , ..., 0.76495105, 0.7649447 ,\n",
       "        0.76493776],\n",
       "       ...,\n",
       "       [0.76494855, 0.76494765, 0.7649525 , ..., 0.76495105, 0.7649447 ,\n",
       "        0.76493776],\n",
       "       [0.76494855, 0.76494765, 0.7649525 , ..., 0.76495105, 0.7649447 ,\n",
       "        0.76493776],\n",
       "       [0.76494855, 0.76494765, 0.7649525 , ..., 0.76495105, 0.7649447 ,\n",
       "        0.76493776]], dtype=float32)"
      ]
     },
     "execution_count": 30,
     "metadata": {},
     "output_type": "execute_result"
    }
   ],
   "source": [
    "agent.config['discount'] * batch['masks'] * next_v"
   ]
  },
  {
   "cell_type": "code",
   "execution_count": 31,
   "id": "a9730111",
   "metadata": {},
   "outputs": [
    {
     "data": {
      "text/plain": [
       "Array(1., dtype=float32)"
      ]
     },
     "execution_count": 31,
     "metadata": {},
     "output_type": "execute_result"
    }
   ],
   "source": [
    "(batch['rewards'] + agent.config['discount'] * batch['masks'] * next_v).max()"
   ]
  },
  {
   "cell_type": "code",
   "execution_count": 32,
   "id": "c45960c6",
   "metadata": {},
   "outputs": [
    {
     "data": {
      "text/plain": [
       "(Array(True, dtype=bool), Array(True, dtype=bool))"
      ]
     },
     "execution_count": 32,
     "metadata": {},
     "output_type": "execute_result"
    }
   ],
   "source": [
    "(batch['rewards']==1).any(), (batch['masks']==1).any()"
   ]
  },
  {
   "cell_type": "code",
   "execution_count": 33,
   "id": "5cbb6a13",
   "metadata": {},
   "outputs": [
    {
     "data": {
      "text/plain": [
       "Array(False, dtype=bool)"
      ]
     },
     "execution_count": 33,
     "metadata": {},
     "output_type": "execute_result"
    }
   ],
   "source": [
    "((batch['masks']==1) & (batch['rewards']==1)).any()"
   ]
  },
  {
   "cell_type": "markdown",
   "id": "04b8ff76",
   "metadata": {},
   "source": [
    "# Trajectory investigation"
   ]
  },
  {
   "cell_type": "code",
   "execution_count": 34,
   "id": "7fa79133",
   "metadata": {},
   "outputs": [
    {
     "data": {
      "text/plain": [
       "((1024, 100, 5, 5), (1024, 100, 5, 5), (1024, 100))"
      ]
     },
     "execution_count": 34,
     "metadata": {},
     "output_type": "execute_result"
    }
   ],
   "source": [
    "use_targets = False\n",
    "\n",
    "\n",
    "timesteps_tr = jax.lax.cond(\n",
    "    use_targets,\n",
    "    lambda: timesteps.replace(),\n",
    "    lambda: timesteps.replace(\n",
    "        grid=GridStatesEnum.remove_targets(timesteps.grid),\n",
    "        goal=GridStatesEnum.remove_targets(timesteps.goal)\n",
    "    )\n",
    ")\n",
    "\n",
    "tr_states = timesteps_tr.grid\n",
    "tr_actions = timesteps_tr.action\n",
    "tr_goals = timesteps_tr.goal\n",
    "tr_states.shape, tr_goals.shape, tr_actions.shape"
   ]
  },
  {
   "cell_type": "code",
   "execution_count": 35,
   "id": "c8ee1dd8",
   "metadata": {},
   "outputs": [
    {
     "data": {
      "text/plain": [
       "((1024, 100, 5, 5), (1024, 100, 5, 5), (1024, 100))"
      ]
     },
     "execution_count": 35,
     "metadata": {},
     "output_type": "execute_result"
    }
   ],
   "source": [
    "use_targets = False\n",
    "\n",
    "\n",
    "timesteps_tr = jax.lax.cond(\n",
    "    use_targets,\n",
    "    lambda: timesteps.replace(),\n",
    "    lambda: timesteps.replace(\n",
    "        grid=GridStatesEnum.remove_targets(timesteps.grid),\n",
    "        goal=GridStatesEnum.remove_targets(timesteps.goal)\n",
    "    )\n",
    ")\n",
    "\n",
    "tr_states = timesteps_tr.grid\n",
    "tr_actions = timesteps_tr.action\n",
    "tr_goals = timesteps_tr.goal\n",
    "tr_states.shape, tr_goals.shape, tr_actions.shape"
   ]
  },
  {
   "cell_type": "code",
   "execution_count": 36,
   "id": "4ac3c120",
   "metadata": {},
   "outputs": [
    {
     "data": {
      "text/plain": [
       "((102400, 5, 5), (102400, 5, 5), (102400,))"
      ]
     },
     "execution_count": 36,
     "metadata": {},
     "output_type": "execute_result"
    }
   ],
   "source": [
    "tr_states, tr_goals, tr_actions = tr_states.reshape((-1, tr_states.shape[-2],tr_states.shape[-1])), tr_goals.reshape((-1, tr_goals.shape[-2],tr_goals.shape[-1])), tr_actions.reshape((-1,))\n",
    "tr_states.shape, tr_goals.shape, tr_actions.shape"
   ]
  },
  {
   "cell_type": "code",
   "execution_count": 37,
   "id": "741bdf6a",
   "metadata": {},
   "outputs": [
    {
     "data": {
      "text/plain": [
       "((102400, 25), (102400, 25), (102400,))"
      ]
     },
     "execution_count": 37,
     "metadata": {},
     "output_type": "execute_result"
    }
   ],
   "source": [
    "tr_states, tr_goals = tr_states.reshape(tr_states.shape[0], -1), tr_goals.reshape(tr_goals.shape[0], -1)\n",
    "tr_states.shape, tr_goals.shape, tr_actions.shape"
   ]
  },
  {
   "cell_type": "code",
   "execution_count": 38,
   "id": "f7c52df7",
   "metadata": {},
   "outputs": [
    {
     "data": {
      "text/plain": [
       "Array([[ 0, 10,  2,  0,  0],\n",
       "       [ 2,  1,  1,  0,  0],\n",
       "       [ 6,  0,  0,  0,  0],\n",
       "       [ 2,  0,  1,  2,  0],\n",
       "       [ 0,  0,  0,  1,  1]], dtype=int8)"
      ]
     },
     "execution_count": 38,
     "metadata": {},
     "output_type": "execute_result"
    }
   ],
   "source": [
    "timesteps.grid[0,0]"
   ]
  },
  {
   "cell_type": "code",
   "execution_count": 39,
   "metadata": {},
   "outputs": [
    {
     "data": {
      "text/plain": [
       "((1, 102400, 25), (1, 102400, 25), (102400,))"
      ]
     },
     "execution_count": 39,
     "metadata": {},
     "output_type": "execute_result"
    }
   ],
   "source": [
    "tr_states, tr_goals, tr_actions = tr_states.reshape((-1, tr_states.shape[-2],tr_states.shape[-1])), tr_goals.reshape((-1, tr_goals.shape[-2],tr_goals.shape[-1])), tr_actions.reshape((-1,))\n",
    "tr_states.shape, tr_goals.shape, tr_actions.shape"
   ]
  },
  {
   "cell_type": "code",
   "execution_count": 40,
   "metadata": {},
   "outputs": [
    {
     "data": {
      "text/plain": [
       "((1, 2560000), (1, 2560000), (102400,))"
      ]
     },
     "execution_count": 40,
     "metadata": {},
     "output_type": "execute_result"
    }
   ],
   "source": [
    "tr_states, tr_goals = tr_states.reshape(tr_states.shape[0], -1), tr_goals.reshape(tr_goals.shape[0], -1)\n",
    "tr_states.shape, tr_goals.shape, tr_actions.shape"
   ]
  },
  {
   "cell_type": "code",
   "execution_count": 41,
   "metadata": {},
   "outputs": [
    {
     "data": {
      "text/plain": [
       "Array([[ 0, 10,  2,  0,  0],\n",
       "       [ 2,  1,  1,  0,  0],\n",
       "       [ 6,  0,  0,  0,  0],\n",
       "       [ 2,  0,  1,  2,  0],\n",
       "       [ 0,  0,  0,  1,  1]], dtype=int8)"
      ]
     },
     "execution_count": 41,
     "metadata": {},
     "output_type": "execute_result"
    }
   ],
   "source": [
    "timesteps.grid[0,0]"
   ]
  }
 ],
 "metadata": {
  "kernelspec": {
   "display_name": "crl-subgoal",
   "language": "python",
   "name": "python3"
  },
  "language_info": {
   "codemirror_mode": {
    "name": "ipython",
    "version": 3
   },
   "file_extension": ".py",
   "mimetype": "text/x-python",
   "name": "python",
   "nbconvert_exporter": "python",
   "pygments_lexer": "ipython3",
   "version": "3.11.4"
  }
 },
 "nbformat": 4,
 "nbformat_minor": 5
}
