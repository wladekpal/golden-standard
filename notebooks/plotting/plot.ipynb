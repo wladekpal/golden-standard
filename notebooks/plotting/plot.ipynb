{
 "cells": [
  {
   "cell_type": "code",
   "execution_count": 1,
   "id": "6a0e9ebd",
   "metadata": {},
   "outputs": [],
   "source": [
    "import matplotlib.pyplot as plt\n",
    "import matplotlib\n",
    "import wandb\n",
    "from rliable import library as rly\n",
    "from rliable import metrics\n",
    "from rliable import plot_utils\n",
    "import seaborn as sns\n",
    "import numpy as np\n",
    "import os\n",
    "\n",
    "from utils import *"
   ]
  },
  {
   "cell_type": "code",
   "execution_count": 2,
   "id": "06ed28ff",
   "metadata": {},
   "outputs": [],
   "source": [
    "plt.rcParams[\"legend.title_fontsize\"] = \"large\"\n",
    "plt.rcParams.update({'font.size': 12})\n",
    "\n",
    "matplotlib.rc(\"xtick\", labelsize=48)\n",
    "matplotlib.rc(\"ytick\", labelsize=48)"
   ]
  },
  {
   "cell_type": "code",
   "execution_count": 3,
   "id": "5757a69b",
   "metadata": {},
   "outputs": [],
   "source": [
    "# Initialize the wandb API\n",
    "api = wandb.Api()\n",
    "\n",
    "# Define your project and entity (replace with your specific values)\n",
    "entity = \"cl-probing\"  # e.g., your username or team name\n",
    "projects = [\"DQN-diagonal\", \"CRL-diagonal\"]\n",
    "figures_path = \"./figures\"\n",
    "data_path = \"./data\"\n",
    "os.makedirs(figures_path, exist_ok=True)\n",
    "os.makedirs(data_path, exist_ok=True)\n",
    "take_x_seeds = 10\n",
    "window_size = 10\n",
    "use_se = True"
   ]
  },
  {
   "cell_type": "code",
   "execution_count": 4,
   "id": "6f78d41b",
   "metadata": {},
   "outputs": [],
   "source": [
    "# Define filters for the run config (replace with your specific filters)\n",
    "filters = {\n",
    "    \"config.env.grid_size\": 4,\n",
    "}\n",
    "\n",
    "# Fetch the runs from the API\n",
    "runs = api.runs(path=f\"{entity}/{projects[0]}\", filters=filters)\n",
    "\n",
    "runs = [run for run in runs]\n",
    "\n",
    "exp_names = [run.name for run in runs]"
   ]
  },
  {
   "cell_type": "markdown",
   "id": "ef969513",
   "metadata": {},
   "source": [
    "## Plotting"
   ]
  },
  {
   "cell_type": "code",
   "execution_count": null,
   "id": "0436f69f",
   "metadata": {},
   "outputs": [
    {
     "name": "stdout",
     "output_type": "stream",
     "text": [
      "Index(['_runtime', 'eval_specialsoft_q/q_mean', 'critic/alpha_temp_loss',\n",
      "       'evalsoft_q/mean_reward', 'evalsoft_q/mean_success', 'eval/critic_loss',\n",
      "       'critic/critic_loss', 'evalsoft_q/q_max',\n",
      "       'evalsoft_q/mean_boxes_on_target', 'eval_special/mean_reward',\n",
      "       'critic/q.std', 'eval_specialsoft_q/total_loss', 'critic/q_max',\n",
      "       'evalsoft_q/critic_loss', 'eval/q_max', 'critic/alpha_temp',\n",
      "       'critic/entropy_std', 'eval/mean_ep_len', 'eval_special/q_max',\n",
      "       'eval_specialsoft_q/q_max', 'eval_specialsoft_q/max_reward', 'epoch',\n",
      "       'eval/max_reward', 'eval_special/total_loss', 'critic/entropy',\n",
      "       'eval/total_loss', '_timestamp', '_step',\n",
      "       'eval_specialsoft_q/mean_reward', 'eval_specialsoft_q/critic_loss',\n",
      "       'eval/mean_success', 'eval_specialsoft_q/min_reward',\n",
      "       'evalsoft_q/q_min', 'eval_specialsoft_q/q_min',\n",
      "       'eval_special/critic_loss', 'gifsoft_q', 'gif', 'eval_special/q_mean',\n",
      "       'eval_specialsoft_q/mean_boxes_on_target', 'eval_special/mean_ep_len',\n",
      "       'eval_specialsoft_q/mean_success', 'critic/q_min',\n",
      "       'eval_special/mean_boxes_on_target', 'eval/q_mean', 'critic/q_mean',\n",
      "       'gif_special', 'eval/mean_reward', 'eval_special/min_reward',\n",
      "       'evalsoft_q/max_reward', 'eval_specialsoft_q/mean_ep_len',\n",
      "       'eval/min_reward', 'evalsoft_q/q_mean', 'evalsoft_q/total_loss',\n",
      "       'gif_specialsoft_q', 'eval_special/mean_success',\n",
      "       'evalsoft_q/mean_ep_len', 'evalsoft_q/min_reward', 'eval/q_min',\n",
      "       'eval/mean_boxes_on_target', 'eval_special/q_min',\n",
      "       'eval_special/max_reward'],\n",
      "      dtype='object')\n"
     ]
    },
    {
     "ename": "NameError",
     "evalue": "name 'run' is not defined",
     "output_type": "error",
     "traceback": [
      "\u001b[31m---------------------------------------------------------------------------\u001b[39m",
      "\u001b[31mNameError\u001b[39m                                 Traceback (most recent call last)",
      "\u001b[36mCell\u001b[39m\u001b[36m \u001b[39m\u001b[32mIn[6]\u001b[39m\u001b[32m, line 4\u001b[39m\n\u001b[32m      1\u001b[39m run_hist = aggregate_data_from_wandb(runs, \u001b[33m\"\u001b[39m\u001b[33meval/mean_success\u001b[39m\u001b[33m\"\u001b[39m, exp_names=exp_names, exp_names_mapping={}, take_x_seeds=take_x_seeds)\n\u001b[32m      3\u001b[39m \u001b[38;5;28mprint\u001b[39m(run_hist.columns)\n\u001b[32m----> \u001b[39m\u001b[32m4\u001b[39m \u001b[38;5;28mprint\u001b[39m(\u001b[43mrun\u001b[49m.config)\n",
      "\u001b[31mNameError\u001b[39m: name 'run' is not defined"
     ]
    }
   ],
   "source": [
    "run_hist = aggregate_data_from_wandb(runs, \"eval/mean_success\", exp_names=exp_names, exp_names_mapping={}, take_x_seeds=take_x_seeds)"
   ]
  },
  {
   "cell_type": "code",
   "execution_count": 13,
   "id": "d6021bd1",
   "metadata": {},
   "outputs": [
    {
     "name": "stdout",
     "output_type": "stream",
     "text": [
      "{'mode': 'online', 'name': 'dqn_1.38_4_grid_4_ep_len__filter_', 'seed': 1, 'gamma': 0.99, 'entity': None, 'epochs': 50, 'project': 'DQN-diagonal', 'num_envs': 1024, 'num_gifs': 1, 'save_dir': None, 'filtering': None, 'gif_every': 10, 'batch_size': 256, 'use_targets': False, 'eval_special': True, 'max_replay_size': 10000, 'intervals_per_epoch': 100, 'updates_per_rollout': 1000, 'eval_different_box_numbers': False, 'use_future_and_random_goals': True}\n",
      "{'grid_size': 4, 'quarter_size': None, 'dense_rewards': False, 'episode_length': 100, 'level_generator': 'variable', 'negative_sparse': False, 'generator_special': False, 'number_of_boxes_max': 4, 'number_of_boxes_min': 4, 'terminate_when_success': False, 'number_of_moving_boxes_max': 4}\n",
      "<class 'str'>\n"
     ]
    }
   ],
   "source": [
    "# print(run_hist.columns)\n",
    "print(runs[0].config['exp'])\n",
    "print(runs[0].config['env'])\n",
    "print(type(runs[0].config['agent']))"
   ]
  }
 ],
 "metadata": {
  "kernelspec": {
   "display_name": "crl-subgoal",
   "language": "python",
   "name": "python3"
  },
  "language_info": {
   "codemirror_mode": {
    "name": "ipython",
    "version": 3
   },
   "file_extension": ".py",
   "mimetype": "text/x-python",
   "name": "python",
   "nbconvert_exporter": "python",
   "pygments_lexer": "ipython3",
   "version": "3.11.13"
  }
 },
 "nbformat": 4,
 "nbformat_minor": 5
}
