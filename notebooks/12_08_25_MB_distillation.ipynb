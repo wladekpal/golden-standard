{
 "cells": [
  {
   "cell_type": "code",
   "execution_count": 1,
   "id": "9048e8dd",
   "metadata": {},
   "outputs": [
    {
     "name": "stdout",
     "output_type": "stream",
     "text": [
      "/home/mbortkie/repos/crl_subgoal/notebooks\n",
      "/home/mbortkie/repos/crl_subgoal/src\n"
     ]
    }
   ],
   "source": [
    "import os\n",
    "print(os.getcwd())\n",
    "os.chdir(os.path.join(os.path.dirname(os.getcwd()), \"src\"))\n",
    "print(os.getcwd()) \n"
   ]
  },
  {
   "cell_type": "code",
   "execution_count": 2,
   "id": "c896550b",
   "metadata": {},
   "outputs": [],
   "source": [
    "import functools\n",
    "import os\n",
    "\n",
    "import wandb\n",
    "import distrax\n",
    "\n",
    "os.environ[\"CUDA_DEVICE_ORDER\"]=\"PCI_BUS_ID\"   \n",
    "os.environ['CUDA_VISIBLE_DEVICES'] = '1'\n",
    "\n",
    "import jax\n",
    "import jax.numpy as jnp\n",
    "from jax import random\n",
    "from typing import Tuple, Dict, Any\n",
    "from dataclasses import dataclass\n",
    "import chex\n",
    "from flax import struct\n",
    "from absl import app, flags\n",
    "from ml_collections import config_flags\n",
    "from impls.agents import agents\n",
    "from config import SRC_ROOT_DIR\n",
    "from envs.block_moving_env import *\n",
    "from train import *\n",
    "from impls.utils.checkpoints import restore_agent, save_agent\n",
    "from config import Config, ExpConfig\n",
    "from envs import legal_envs\n"
   ]
  },
  {
   "cell_type": "code",
   "execution_count": 3,
   "id": "4122c0ca",
   "metadata": {},
   "outputs": [],
   "source": [
    "EPISODE_LENGTH = 100\n",
    "NUM_ENVS = 8"
   ]
  },
  {
   "cell_type": "code",
   "execution_count": 4,
   "id": "b3008633",
   "metadata": {},
   "outputs": [],
   "source": [
    "config = Config(\n",
    "    exp=ExpConfig(seed=0, name=\"test\"),\n",
    "    env=BoxPushingConfig(\n",
    "        grid_size=5,\n",
    "        number_of_boxes_min=3,\n",
    "        number_of_boxes_max=7,\n",
    "        number_of_moving_boxes_max=5\n",
    "    )\n",
    ")"
   ]
  },
  {
   "cell_type": "code",
   "execution_count": 5,
   "id": "9e5aaf0c",
   "metadata": {},
   "outputs": [
    {
     "data": {
      "text/plain": [
       "Config(exp=ExpConfig(name='test', project='crl_subgoal', mode='online', entity=None, num_envs=1024, batch_size=1024, seed=0, max_replay_size=10000, epochs=10, use_targets=False, use_double_batch_trick=False, gamma=0.99, eval_different_box_numbers=False, eval_mirrored=False, gif_every=10), env=BoxPushingConfig(grid_size=5, number_of_boxes_min=3, number_of_boxes_max=7, number_of_moving_boxes_max=5, episode_length=100, truncate_when_success=False, dense_rewards=False, level_generator='default', generator_mirroring=False), agent=actor_hidden_dims: &id001 !!python/tuple\n",
       "- 256\n",
       "- 256\n",
       "actor_log_q: true\n",
       "actor_loss: awr\n",
       "agent_name: crl\n",
       "alpha: 0.1\n",
       "batch_size: 256\n",
       "const_std: true\n",
       "discount: 0.99\n",
       "discrete: true\n",
       "encoder: null\n",
       "expectile: 0.9\n",
       "latent_dim: 64\n",
       "layer_norm: true\n",
       "lr: 0.0003\n",
       "tau: 0.005\n",
       "use_next_obs: false\n",
       "value_hidden_dims: *id001\n",
       ")"
      ]
     },
     "execution_count": 5,
     "metadata": {},
     "output_type": "execute_result"
    }
   ],
   "source": [
    "config"
   ]
  },
  {
   "cell_type": "code",
   "execution_count": 6,
   "id": "59bafa6d",
   "metadata": {},
   "outputs": [],
   "source": [
    "env = create_env(config.env)\n",
    "env = AutoResetWrapper(env)\n",
    "key = random.PRNGKey(config.exp.seed)\n",
    "env.step = jax.jit(jax.vmap(env.step))\n",
    "env.reset = jax.jit(jax.vmap(env.reset))\n",
    "partial_flatten = functools.partial(flatten_batch, get_next_obs=config.agent.use_next_obs)\n",
    "jitted_flatten_batch = jax.jit(jax.vmap(partial_flatten, in_axes=(None, 0, 0)), static_argnums=(0,))\n",
    "\n",
    "dummy_timestep = env.get_dummy_timestep(key)\n",
    "\n",
    "replay_buffer = jit_wrap(\n",
    "    TrajectoryUniformSamplingQueue(\n",
    "        max_replay_size=config.exp.max_replay_size,\n",
    "        dummy_data_sample=dummy_timestep,\n",
    "        sample_batch_size=config.exp.batch_size,\n",
    "        num_envs=config.exp.num_envs,\n",
    "        episode_length=config.env.episode_length,\n",
    "    )\n",
    ")\n",
    "buffer_state = jax.jit(replay_buffer.init)(key)\n",
    "\n",
    "example_batch = {\n",
    "    'observations':dummy_timestep.grid.reshape(1, -1),  # Add batch dimension \n",
    "    'next_observations': dummy_timestep.grid.reshape(1, -1),\n",
    "    'actions': jnp.ones((1,), dtype=jnp.int8) * (env._env.action_space-1), # TODO: make sure it should be the maximal value of action space  # Single action for batch size 1\n",
    "    'rewards': dummy_timestep.reward.reshape(1, -1),\n",
    "    'masks': 1.0 - dummy_timestep.reward.reshape(1, -1), \n",
    "    'value_goals': dummy_timestep.grid.reshape(1, -1),\n",
    "    'actor_goals': dummy_timestep.grid.reshape(1, -1),\n",
    "}"
   ]
  },
  {
   "cell_type": "code",
   "execution_count": 7,
   "id": "33a53af4",
   "metadata": {},
   "outputs": [
    {
     "name": "stdout",
     "output_type": "stream",
     "text": [
      "Restored from /home/mbortkie/repos/crl_subgoal/experiments/test_generalization_sc_YHIWZ6/runs/long_moving_boxes_5_grid_5_range_3_7_alpha_0.0//params_50.pkl\n"
     ]
    }
   ],
   "source": [
    "agent, config = restore_agent(example_batch, \"/home/mbortkie/repos/crl_subgoal/experiments/test_generalization_sc_YHIWZ6/runs/long_moving_boxes_5_grid_5_range_3_7_alpha_0.0/\", 50)"
   ]
  },
  {
   "cell_type": "code",
   "execution_count": 8,
   "id": "ac8ca37b",
   "metadata": {},
   "outputs": [],
   "source": [
    "keys = random.split(random.PRNGKey(0), 8)\n",
    "state, info = env.reset(keys)\n"
   ]
  },
  {
   "cell_type": "code",
   "execution_count": 9,
   "id": "37e03a93",
   "metadata": {},
   "outputs": [
    {
     "data": {
      "text/plain": [
       "Array([1, 2, 2, 5, 2, 0, 0, 2], dtype=int32)"
      ]
     },
     "execution_count": 9,
     "metadata": {},
     "output_type": "execute_result"
    }
   ],
   "source": [
    "agent.sample_actions(state.grid.reshape(state.grid.shape[0], -1), state.goal.reshape(state.goal.shape[0], -1), seed=random.PRNGKey(0))"
   ]
  },
  {
   "cell_type": "code",
   "execution_count": 10,
   "id": "a7ef2d5c",
   "metadata": {},
   "outputs": [],
   "source": [
    "_, info, timesteps = collect_data(agent, key, env, NUM_ENVS, EPISODE_LENGTH, use_targets=False)\n",
    "timesteps = jax.tree_util.tree_map(lambda x: x.swapaxes(1, 0), timesteps)\n"
   ]
  },
  {
   "cell_type": "code",
   "execution_count": 11,
   "id": "8849882e",
   "metadata": {},
   "outputs": [
    {
     "data": {
      "text/plain": [
       "(8, 100, 5, 5)"
      ]
     },
     "execution_count": 11,
     "metadata": {},
     "output_type": "execute_result"
    }
   ],
   "source": [
    "timesteps.grid.shape"
   ]
  },
  {
   "cell_type": "code",
   "execution_count": 12,
   "id": "6326ac89",
   "metadata": {},
   "outputs": [],
   "source": [
    "use_targets = False\n",
    "\n",
    "\n",
    "timesteps_tr = jax.lax.cond(\n",
    "    use_targets,\n",
    "    lambda: timesteps.replace(),\n",
    "    lambda: timesteps.replace(\n",
    "        grid=GridStatesEnum.remove_targets(timesteps.grid),\n",
    "        goal=GridStatesEnum.remove_targets(timesteps.goal)\n",
    "    )\n",
    ")\n",
    "\n",
    "tr_states = timesteps_tr.grid\n",
    "tr_actions = timesteps_tr.action\n",
    "tr_goals = timesteps_tr.goal"
   ]
  },
  {
   "cell_type": "code",
   "execution_count": 13,
   "id": "c59881c9",
   "metadata": {},
   "outputs": [
    {
     "data": {
      "text/plain": [
       "Array([[[0, 1, 0, 0, 0],\n",
       "        [0, 1, 1, 0, 0],\n",
       "        [3, 0, 0, 0, 0],\n",
       "        [0, 0, 1, 0, 0],\n",
       "        [0, 0, 0, 1, 1]],\n",
       "\n",
       "       [[0, 1, 0, 0, 0],\n",
       "        [0, 1, 1, 0, 0],\n",
       "        [3, 0, 0, 0, 0],\n",
       "        [0, 0, 1, 0, 0],\n",
       "        [0, 0, 0, 1, 1]],\n",
       "\n",
       "       [[0, 1, 0, 0, 0],\n",
       "        [0, 1, 1, 0, 0],\n",
       "        [0, 4, 0, 0, 0],\n",
       "        [0, 0, 1, 0, 0],\n",
       "        [0, 0, 0, 1, 1]],\n",
       "\n",
       "       ...,\n",
       "\n",
       "       [[0, 1, 1, 0, 0],\n",
       "        [1, 0, 0, 0, 0],\n",
       "        [5, 0, 0, 0, 0],\n",
       "        [1, 0, 0, 1, 0],\n",
       "        [0, 0, 0, 0, 0]],\n",
       "\n",
       "       [[0, 1, 1, 0, 0],\n",
       "        [1, 0, 0, 0, 0],\n",
       "        [5, 0, 0, 0, 0],\n",
       "        [1, 0, 0, 1, 0],\n",
       "        [0, 0, 0, 0, 0]],\n",
       "\n",
       "       [[0, 1, 1, 0, 0],\n",
       "        [1, 0, 0, 0, 0],\n",
       "        [5, 0, 0, 0, 0],\n",
       "        [1, 0, 0, 1, 0],\n",
       "        [0, 0, 0, 0, 0]]], dtype=int8)"
      ]
     },
     "execution_count": 13,
     "metadata": {},
     "output_type": "execute_result"
    }
   ],
   "source": [
    "tr_states[0]"
   ]
  },
  {
   "cell_type": "code",
   "execution_count": 14,
   "id": "2c19acb7",
   "metadata": {},
   "outputs": [
    {
     "name": "stdout",
     "output_type": "stream",
     "text": [
      "timesteps_tr.grid.shape: (8, 100, 5, 5)\n",
      "timesteps_tr.action.shape: (8, 100)\n",
      "timesteps_tr.goal.shape: (8, 100, 5, 5)\n"
     ]
    }
   ],
   "source": [
    "print(f\"timesteps_tr.grid.shape: {timesteps_tr.grid.shape}\")\n",
    "print(f\"timesteps_tr.action.shape: {timesteps_tr.action.shape}\")\n",
    "print(f\"timesteps_tr.goal.shape: {timesteps_tr.goal.shape}\")"
   ]
  },
  {
   "cell_type": "code",
   "execution_count": 15,
   "id": "53d8a6a4",
   "metadata": {},
   "outputs": [
    {
     "data": {
      "text/plain": [
       "Array([[2, 3, 3, 2, 1, 3, 4, 3, 5, 5, 3, 5, 3, 5, 5, 1, 0, 5, 1, 4, 0, 2,\n",
       "        0, 2, 2, 3, 2, 3, 0, 0, 5, 4, 4, 4, 1, 5, 3, 2, 4, 2, 0, 2, 2, 1,\n",
       "        5, 3, 4, 2, 3, 2, 4, 1, 5, 4, 3, 1, 5, 2, 0, 4, 3, 3, 3, 1, 1, 4,\n",
       "        0, 2, 3, 2, 1, 0, 1, 3, 2, 2, 1, 3, 2, 0, 2, 5, 0, 4, 4, 4, 4, 5,\n",
       "        4, 4, 4, 4, 4, 4, 4, 4, 4, 4, 4, 4],\n",
       "       [3, 0, 0, 1, 2, 4, 0, 1, 1, 5, 4, 3, 3, 4, 1, 3, 5, 1, 0, 3, 1, 4,\n",
       "        2, 2, 5, 0, 5, 3, 0, 3, 0, 4, 1, 1, 0, 1, 1, 0, 2, 3, 0, 0, 1, 2,\n",
       "        1, 2, 3, 2, 1, 2, 5, 3, 2, 0, 5, 4, 0, 0, 0, 5, 2, 5, 5, 3, 4, 0,\n",
       "        1, 3, 1, 2, 5, 5, 5, 5, 5, 5, 2, 4, 4, 4, 4, 4, 4, 4, 4, 4, 4, 4,\n",
       "        4, 4, 4, 4, 4, 4, 4, 4, 5, 4, 4, 4],\n",
       "       [5, 0, 3, 0, 3, 1, 4, 1, 3, 2, 1, 5, 3, 1, 3, 0, 2, 3, 0, 0, 4, 2,\n",
       "        2, 5, 5, 3, 0, 3, 4, 1, 1, 0, 1, 0, 1, 3, 2, 2, 2, 5, 4, 1, 1, 4,\n",
       "        3, 2, 3, 3, 3, 1, 1, 5, 0, 0, 0, 2, 0, 4, 0, 1, 1, 1, 1, 5, 2, 2,\n",
       "        0, 2, 5, 5, 2, 2, 5, 5, 5, 5, 3, 5, 5, 2, 5, 5, 5, 5, 5, 2, 5, 5,\n",
       "        5, 2, 5, 5, 5, 5, 5, 5, 5, 3, 2, 1],\n",
       "       [5, 2, 2, 1, 4, 3, 0, 5, 1, 1, 4, 0, 3, 0, 0, 3, 0, 5, 2, 1, 0, 0,\n",
       "        2, 4, 3, 5, 3, 2, 4, 4, 1, 2, 5, 3, 5, 1, 5, 5, 5, 5, 2, 4, 3, 5,\n",
       "        5, 5, 5, 5, 5, 5, 5, 5, 5, 5, 5, 5, 5, 5, 5, 5, 5, 5, 5, 5, 5, 5,\n",
       "        5, 5, 5, 5, 5, 5, 5, 5, 5, 5, 5, 5, 5, 5, 5, 5, 5, 5, 5, 5, 5, 4,\n",
       "        5, 5, 5, 5, 5, 5, 5, 5, 0, 1, 5, 5],\n",
       "       [3, 0, 2, 1, 4, 0, 5, 0, 4, 2, 3, 2, 2, 1, 2, 1, 0, 0, 5, 1, 1, 4,\n",
       "        1, 3, 3, 1, 3, 2, 3, 3, 5, 5, 5, 0, 1, 4, 2, 2, 2, 5, 5, 5, 5, 5,\n",
       "        5, 3, 4, 5, 0, 1, 2, 5, 2, 4, 3, 2, 3, 1, 3, 3, 3, 0, 5, 0, 5, 0,\n",
       "        5, 1, 5, 5, 0, 1, 5, 5, 5, 5, 5, 5, 5, 5, 5, 5, 5, 5, 5, 5, 5, 5,\n",
       "        5, 5, 5, 5, 5, 5, 5, 5, 5, 5, 5, 5],\n",
       "       [3, 5, 0, 3, 1, 5, 5, 1, 5, 5, 2, 4, 1, 2, 5, 2, 4, 2, 0, 1, 3, 3,\n",
       "        1, 5, 2, 4, 3, 1, 2, 2, 0, 1, 0, 3, 1, 3, 2, 0, 0, 0, 3, 3, 5, 2,\n",
       "        1, 1, 3, 3, 0, 5, 2, 3, 5, 1, 1, 5, 4, 0, 5, 2, 2, 5, 5, 5, 2, 0,\n",
       "        4, 0, 2, 0, 5, 3, 5, 3, 5, 5, 5, 0, 5, 5, 5, 5, 5, 5, 0, 0, 5, 5,\n",
       "        5, 5, 5, 5, 5, 5, 5, 5, 5, 5, 0, 5],\n",
       "       [5, 5, 3, 5, 5, 5, 5, 5, 0, 1, 3, 1, 5, 2, 2, 1, 5, 5, 0, 1, 5, 5,\n",
       "        5, 5, 5, 5, 5, 0, 1, 5, 5, 0, 3, 3, 5, 0, 1, 5, 5, 0, 3, 4, 2, 5,\n",
       "        0, 2, 5, 2, 4, 3, 1, 1, 2, 5, 4, 4, 3, 0, 3, 3, 3, 4, 1, 0, 1, 0,\n",
       "        0, 2, 1, 1, 2, 3, 2, 3, 1, 2, 5, 0, 0, 0, 3, 1, 0, 1, 1, 2, 2, 0,\n",
       "        0, 5, 1, 1, 2, 0, 5, 0, 0, 4, 3, 0],\n",
       "       [5, 3, 3, 2, 3, 3, 1, 4, 0, 2, 2, 5, 1, 3, 1, 3, 0, 5, 5, 0, 0, 2,\n",
       "        4, 2, 1, 0, 2, 5, 4, 1, 2, 1, 1, 5, 0, 2, 5, 3, 4, 3, 5, 1, 1, 4,\n",
       "        0, 3, 2, 3, 3, 5, 3, 1, 4, 0, 0, 0, 2, 2, 2, 3, 2, 2, 5, 4, 4, 3,\n",
       "        5, 5, 5, 0, 4, 5, 4, 1, 3, 4, 2, 5, 5, 3, 4, 2, 0, 1, 0, 0, 1, 5,\n",
       "        1, 0, 5, 5, 5, 1, 5, 5, 0, 0, 1, 5]], dtype=int32)"
      ]
     },
     "execution_count": 15,
     "metadata": {},
     "output_type": "execute_result"
    }
   ],
   "source": [
    "tr_actions[-20:]"
   ]
  },
  {
   "cell_type": "code",
   "execution_count": 16,
   "id": "f557a2e3",
   "metadata": {},
   "outputs": [
    {
     "data": {
      "text/plain": [
       "(8, 100, 5, 5)"
      ]
     },
     "execution_count": 16,
     "metadata": {},
     "output_type": "execute_result"
    }
   ],
   "source": [
    "tr_states.shape"
   ]
  },
  {
   "cell_type": "code",
   "execution_count": 17,
   "id": "8c14bb28",
   "metadata": {},
   "outputs": [
    {
     "name": "stderr",
     "output_type": "stream",
     "text": [
      "2025-08-11 19:05:06.170671: W external/xla/xla/service/gpu/autotuning/dot_search_space.cc:200] All configs were filtered out because none of them sufficiently match the hints. Maybe the hints set does not contain a good representative set of valid configs?Working around this by using the full hints set instead.\n",
      "2025-08-11 19:05:06.170703: W external/xla/xla/service/gpu/autotuning/dot_search_space.cc:200] All configs were filtered out because none of them sufficiently match the hints. Maybe the hints set does not contain a good representative set of valid configs?Working around this by using the full hints set instead.\n"
     ]
    }
   ],
   "source": [
    "eval_configs = [config]\n",
    "eval_names_suff = [\"\"]\n",
    "eval_info = {\"epoch\": 1}\n",
    "if config.exp.eval_different_box_numbers:\n",
    "    for number_of_boxes in range(1, 12, 2):\n",
    "        new_config = copy.deepcopy(config)\n",
    "        new_config.env = dataclasses.replace(new_config.env, number_of_boxes_min=number_of_boxes, number_of_boxes_max=number_of_boxes, number_of_moving_boxes_max=number_of_boxes)\n",
    "        eval_configs.append(new_config)\n",
    "        eval_names_suff.append(\"_\" + str(number_of_boxes))\n",
    "\n",
    "\n",
    "for eval_config, eval_name_suff in zip(eval_configs, eval_names_suff):\n",
    "    eval_info_tmp, loss_info = evaluate_agent_in_specific_env(agent, key, jitted_flatten_batch, eval_config, eval_name_suff ,create_gif=False, critic_temp=1)\n",
    "    eval_info.update(eval_info_tmp)\n",
    "\n",
    "    if eval_name_suff == \"\":\n",
    "        eval_info.update(loss_info)\n"
   ]
  },
  {
   "cell_type": "code",
   "execution_count": 18,
   "id": "de93b5cb",
   "metadata": {},
   "outputs": [
    {
     "data": {
      "text/plain": [
       "{'epoch': 1,\n",
       " 'eval/mean_reward': Array(0.47851562, dtype=float32),\n",
       " 'eval/min_reward': Array(0, dtype=int32),\n",
       " 'eval/max_reward': Array(1, dtype=int32),\n",
       " 'eval/mean_success': Array(0.46875, dtype=float32),\n",
       " 'eval/mean_boxes_on_target': Array(4.1953125, dtype=float32),\n",
       " 'eval/total_loss': Array(2.940083, dtype=float32),\n",
       " 'eval/contrastive_loss': Array(0.00210022, dtype=float32),\n",
       " 'eval/actor_loss': Array(2.9357905, dtype=float32),\n",
       " 'eval/cat_acc': Array(0.74316406, dtype=float32),\n",
       " 'actor/actor_loss': Array(2.9357905, dtype=float32),\n",
       " 'actor/adv': Array(-0.04122543, dtype=float32),\n",
       " 'actor/bc_log_prob': Array(-2.9357905, dtype=float32),\n",
       " 'critic/binary_accuracy': Array(0.9995432, dtype=float32),\n",
       " 'critic/categorical_accuracy': Array(0.74316406, dtype=float32),\n",
       " 'critic/contrastive_loss': Array(0.00210022, dtype=float32),\n",
       " 'critic/logits': Array(-19.956604, dtype=float32),\n",
       " 'critic/logits_neg': Array(-19.976082, dtype=float32),\n",
       " 'critic/logits_pos': Array(-0.0319885, dtype=float32),\n",
       " 'critic/v_max': Array(861.7071, dtype=float32),\n",
       " 'critic/v_mean': Array(21.157497, dtype=float32),\n",
       " 'critic/v_min': Array(3.7415848e-08, dtype=float32),\n",
       " 'value/binary_accuracy': Array(0.9995165, dtype=float32),\n",
       " 'value/categorical_accuracy': Array(0.71191406, dtype=float32),\n",
       " 'value/contrastive_loss': Array(0.00219215, dtype=float32),\n",
       " 'value/logits': Array(-19.349358, dtype=float32),\n",
       " 'value/logits_neg': Array(-19.368048, dtype=float32),\n",
       " 'value/logits_pos': Array(-0.22828013, dtype=float32),\n",
       " 'value/v_max': Array(316.6732, dtype=float32),\n",
       " 'value/v_mean': Array(16.257898, dtype=float32),\n",
       " 'value/v_min': Array(8.348605e-07, dtype=float32)}"
      ]
     },
     "execution_count": 18,
     "metadata": {},
     "output_type": "execute_result"
    }
   ],
   "source": [
    "eval_info"
   ]
  },
  {
   "cell_type": "code",
   "execution_count": 19,
   "id": "f82f624f",
   "metadata": {},
   "outputs": [],
   "source": [
    "dummy_timestep = env.get_dummy_timestep(key)\n",
    "\n",
    "replay_buffer = jit_wrap(\n",
    "    TrajectoryUniformSamplingQueue(\n",
    "        max_replay_size=config.exp.max_replay_size,\n",
    "        dummy_data_sample=dummy_timestep,\n",
    "        sample_batch_size=config.exp.batch_size,\n",
    "        num_envs=config.exp.num_envs,\n",
    "        episode_length=config.env.episode_length,\n",
    "    )\n",
    ")\n",
    "buffer_state = jax.jit(replay_buffer.init)(key)\n",
    "\n"
   ]
  },
  {
   "cell_type": "code",
   "execution_count": 20,
   "id": "e936f2b0",
   "metadata": {},
   "outputs": [],
   "source": [
    "data_key = random.PRNGKey(0)\n",
    "_, _, timesteps = collect_data(agent, data_key, env, config.exp.num_envs, config.env.episode_length, use_targets=config.exp.use_targets)\n",
    "buffer_state = replay_buffer.insert(buffer_state, timesteps)"
   ]
  },
  {
   "cell_type": "code",
   "execution_count": 21,
   "id": "4863f03c",
   "metadata": {},
   "outputs": [],
   "source": [
    "from impls.utils.networks import GCDiscreteActor\n",
    "def reset_actor(agent, seed, ex_observations, ex_goals):\n",
    "    actor_def = GCDiscreteActor(\n",
    "                hidden_dims=config.agent['actor_hidden_dims'],\n",
    "                action_dim=6,\n",
    "                gc_encoder=None\n",
    "            )\n",
    "    actor_args = (ex_observations, ex_goals)\n",
    "    actor_init_rng = jax.random.PRNGKey(seed)\n",
    "\n",
    "    new_actor_params = actor_def.init(actor_init_rng, *actor_args)['params']\n",
    "\n",
    "    new_params = dict(agent.network.params)\n",
    "    new_params['modules_actor'] = new_actor_params\n",
    "\n",
    "    new_network = agent.network.replace(params=new_params)\n",
    "    return agent.replace(network=new_network)\n"
   ]
  },
  {
   "cell_type": "code",
   "execution_count": 22,
   "id": "db513a44",
   "metadata": {},
   "outputs": [
    {
     "data": {
      "text/plain": [
       "dict_keys(['modules_critic', 'modules_actor', 'modules_value'])"
      ]
     },
     "execution_count": 22,
     "metadata": {},
     "output_type": "execute_result"
    }
   ],
   "source": [
    "agent.network.params.keys()"
   ]
  },
  {
   "cell_type": "code",
   "execution_count": 23,
   "id": "337ec634",
   "metadata": {},
   "outputs": [],
   "source": [
    "ex_goals = dummy_timestep.grid.reshape(1, -1)\n",
    "ex_observations = dummy_timestep.grid.reshape(1, -1)\n",
    "agent_new = reset_actor(agent, seed=0, ex_observations=ex_observations, ex_goals=ex_goals)"
   ]
  },
  {
   "cell_type": "code",
   "execution_count": 31,
   "id": "02b8ff97",
   "metadata": {},
   "outputs": [],
   "source": [
    "def eval_agent(agent, key, config, critic_temp=None, different_boxes=False):\n",
    "    eval_configs = [config]\n",
    "    eval_names_suff = [\"\"]\n",
    "    eval_info = {\"epoch\": 1}\n",
    "    if different_boxes:\n",
    "        for number_of_boxes in range(1, 12, 2):\n",
    "            new_config = copy.deepcopy(config)\n",
    "            new_config.env = dataclasses.replace(new_config.env, number_of_boxes_min=number_of_boxes, number_of_boxes_max=number_of_boxes, number_of_moving_boxes_max=number_of_boxes)\n",
    "            eval_configs.append(new_config)\n",
    "            eval_names_suff.append(\"_\" + str(number_of_boxes))\n",
    "\n",
    "\n",
    "    for eval_config, eval_name_suff in zip(eval_configs, eval_names_suff):\n",
    "        eval_info_tmp, loss_info = evaluate_agent_in_specific_env(agent, key, jitted_flatten_batch, eval_config, eval_name_suff ,create_gif=False, critic_temp=critic_temp)\n",
    "        eval_info.update(eval_info_tmp)\n",
    "\n",
    "        if eval_name_suff == \"\":\n",
    "            eval_info.update(loss_info)\n",
    "    return eval_info"
   ]
  },
  {
   "cell_type": "code",
   "execution_count": 25,
   "id": "24348231",
   "metadata": {},
   "outputs": [],
   "source": [
    "eval_info = eval_agent(agent_new, key, config)"
   ]
  },
  {
   "cell_type": "code",
   "execution_count": 26,
   "id": "0f8fd056",
   "metadata": {},
   "outputs": [
    {
     "data": {
      "text/plain": [
       "{'epoch': 1,\n",
       " 'eval/mean_reward': Array(0., dtype=float32),\n",
       " 'eval/min_reward': Array(0, dtype=int32),\n",
       " 'eval/max_reward': Array(0, dtype=int32),\n",
       " 'eval/mean_success': Array(0., dtype=float32),\n",
       " 'eval/mean_boxes_on_target': Array(1.3349609, dtype=float32),\n",
       " 'eval/total_loss': Array(1.7937074, dtype=float32),\n",
       " 'eval/contrastive_loss': Array(0.0009548, dtype=float32),\n",
       " 'eval/actor_loss': Array(1.791837, dtype=float32),\n",
       " 'eval/cat_acc': Array(0.9238281, dtype=float32),\n",
       " 'actor/actor_loss': Array(1.791837, dtype=float32),\n",
       " 'actor/adv': Array(-0.25370777, dtype=float32),\n",
       " 'actor/bc_log_prob': Array(-1.791837, dtype=float32),\n",
       " 'critic/binary_accuracy': Array(0.9997387, dtype=float32),\n",
       " 'critic/categorical_accuracy': Array(0.9238281, dtype=float32),\n",
       " 'critic/contrastive_loss': Array(0.0009548, dtype=float32),\n",
       " 'critic/logits': Array(-20.195335, dtype=float32),\n",
       " 'critic/logits_neg': Array(-20.216814, dtype=float32),\n",
       " 'critic/logits_pos': Array(1.7774253, dtype=float32),\n",
       " 'critic/v_max': Array(758.54095, dtype=float32),\n",
       " 'critic/v_mean': Array(27.490845, dtype=float32),\n",
       " 'critic/v_min': Array(2.4909608e-05, dtype=float32),\n",
       " 'value/binary_accuracy': Array(0.9997349, dtype=float32),\n",
       " 'value/categorical_accuracy': Array(0.91796875, dtype=float32),\n",
       " 'value/contrastive_loss': Array(0.00091558, dtype=float32),\n",
       " 'value/logits': Array(-19.758871, dtype=float32),\n",
       " 'value/logits_neg': Array(-19.779943, dtype=float32),\n",
       " 'value/logits_pos': Array(1.7983155, dtype=float32),\n",
       " 'value/v_max': Array(349.69968, dtype=float32),\n",
       " 'value/v_mean': Array(26.274023, dtype=float32),\n",
       " 'value/v_min': Array(0.00184499, dtype=float32)}"
      ]
     },
     "execution_count": 26,
     "metadata": {},
     "output_type": "execute_result"
    }
   ],
   "source": [
    "eval_info"
   ]
  },
  {
   "cell_type": "code",
   "execution_count": 27,
   "id": "5cb64fd7",
   "metadata": {},
   "outputs": [],
   "source": [
    "@jax.jit\n",
    "def total_loss(agent, batch, grad_params, rng=None):\n",
    "    \"\"\"Compute the total loss.\"\"\"\n",
    "    info = {}\n",
    "    rng = rng if rng is not None else agent.rng\n",
    "\n",
    "    # critic_loss, critic_info = agent.contrastive_loss(batch, grad_params, 'critic')\n",
    "    # for k, v in critic_info.items():\n",
    "    #     info[f'critic/{k}'] = v\n",
    "\n",
    "    # if agent.config['actor_loss'] == 'awr':\n",
    "    #     value_loss, value_info = agent.contrastive_loss(batch, grad_params, 'value')\n",
    "    #     for k, v in value_info.items():\n",
    "    #         info[f'value/{k}'] = v\n",
    "    # else:\n",
    "    #     value_loss = 0.0\n",
    "\n",
    "    rng, actor_rng = jax.random.split(rng)\n",
    "    actor_loss, actor_info = agent.actor_loss(batch, grad_params, actor_rng)\n",
    "    for k, v in actor_info.items():\n",
    "        info[f'actor/{k}'] = v\n",
    "\n",
    "    # loss = critic_loss + value_loss + actor_loss\n",
    "    loss = actor_loss\n",
    "    return loss, info\n",
    "\n",
    "@jax.jit\n",
    "def update(agent, batch):\n",
    "    \"\"\"Update the agent and return a new agent with information dictionary.\"\"\"\n",
    "    new_rng, rng = jax.random.split(agent.rng)\n",
    "\n",
    "    def loss_fn(grad_params):\n",
    "        return agent.total_loss(batch, grad_params, rng=rng)\n",
    "\n",
    "    new_network, info = agent.network.apply_loss_fn(loss_fn=loss_fn)\n",
    "\n",
    "    return agent.replace(network=new_network, rng=new_rng), info"
   ]
  },
  {
   "cell_type": "code",
   "execution_count": 28,
   "id": "ad8e25e3",
   "metadata": {},
   "outputs": [],
   "source": [
    "def make_batch(buffer_state, key):\n",
    "    key, batch_key, double_batch_key = jax.random.split(key, 3)\n",
    "    # Sample and process transitions\n",
    "    buffer_state, transitions = replay_buffer.sample(buffer_state)\n",
    "    batch_keys = jax.random.split(batch_key, transitions.grid.shape[0])\n",
    "    state, future_state, goal_index = jitted_flatten_batch(config.exp.gamma, transitions, batch_keys)\n",
    "\n",
    "    state, actions, future_state, goal_index = get_single_pair_from_every_env(state, future_state, goal_index, double_batch_key, use_double_batch_trick=config.exp.use_double_batch_trick)\n",
    "    if not config.exp.use_targets:\n",
    "        state = state.replace(grid=GridStatesEnum.remove_targets(state.grid))\n",
    "        future_state = future_state.replace(grid=GridStatesEnum.remove_targets(future_state.grid))\n",
    "    # Create valid batch\n",
    "    batch = {\n",
    "        'observations': state.grid.reshape(state.grid.shape[0], -1),\n",
    "        'next_observations': future_state.grid.reshape(future_state.grid.shape[0], -1),\n",
    "        'actions': actions.squeeze(),\n",
    "        'rewards': state.reward.reshape(state.reward.shape[0], -1),\n",
    "        'masks': 1.0 - state.reward.reshape(state.reward.shape[0], -1), # TODO: add success and reward separately\n",
    "        'value_goals': future_state.grid.reshape(future_state.grid.shape[0], -1),\n",
    "        'actor_goals': future_state.grid.reshape(future_state.grid.shape[0], -1),\n",
    "    }\n",
    "    return buffer_state, batch\n",
    "\n",
    "@jax.jit\n",
    "def update_step(carry, _):\n",
    "    buffer_state, agent, key = carry\n",
    "    key, batch_key = jax.random.split(key, 2)\n",
    "    buffer_state, batch = make_batch(buffer_state, batch_key)\n",
    "    agent, update_info = update(agent, batch)\n",
    "    return (buffer_state, agent, key), update_info\n",
    "\n",
    "\n",
    "@jax.jit\n",
    "def train_epoch(carry, _):\n",
    "    buffer_state, agent, key = carry\n",
    "    key, data_key, up_key = jax.random.split(key, 3)\n",
    "    _, _, timesteps = collect_data(agent, data_key, env, config.exp.num_envs, config.env.episode_length, use_targets=config.exp.use_targets, critic_temp=1)\n",
    "    buffer_state = replay_buffer.insert(buffer_state, timesteps)\n",
    "    (buffer_state, agent, _), _ = jax.lax.scan(update_step, (buffer_state, agent, up_key), None, length=1000)\n",
    "    return (buffer_state, agent, key), None\n",
    "\n",
    "\n",
    "@functools.partial(jax.jit, static_argnums=(3,))\n",
    "def train_n_epochs(buffer_state, agent, key, epochs=10):\n",
    "    (buffer_state, agent, key), _ = jax.lax.scan(\n",
    "        train_epoch,\n",
    "        (buffer_state, agent, key),\n",
    "        None,\n",
    "        length=epochs,\n",
    "    )\n",
    "    return buffer_state, agent, key"
   ]
  },
  {
   "cell_type": "markdown",
   "id": "40d698fe",
   "metadata": {},
   "source": [
    "Note: evey train_n_epochs is 10000 updates"
   ]
  },
  {
   "cell_type": "code",
   "execution_count": 34,
   "id": "c36ad0d9",
   "metadata": {},
   "outputs": [
    {
     "data": {
      "text/plain": [
       "Array(0.5019531, dtype=float32)"
      ]
     },
     "execution_count": 34,
     "metadata": {},
     "output_type": "execute_result"
    }
   ],
   "source": [
    "eval_info_critic = eval_agent(agent, key, config, critic_temp=1)\n",
    "eval_info_critic['eval/mean_reward']"
   ]
  },
  {
   "cell_type": "markdown",
   "id": "2bed53e8",
   "metadata": {},
   "source": [
    "# Distillation"
   ]
  },
  {
   "cell_type": "code",
   "execution_count": 48,
   "id": "8360ce46",
   "metadata": {},
   "outputs": [],
   "source": [
    "config = Config(\n",
    "    exp=ExpConfig(seed=0, name=\"test\"),\n",
    "    env=BoxPushingConfig(\n",
    "        grid_size=5,\n",
    "        number_of_boxes_min=3,\n",
    "        number_of_boxes_max=7,\n",
    "        number_of_moving_boxes_max=5\n",
    "    )\n",
    ")\n",
    "agent_new = reset_actor(agent, seed=0, ex_observations=ex_observations, ex_goals=ex_goals)"
   ]
  },
  {
   "cell_type": "code",
   "execution_count": 49,
   "id": "e856369c",
   "metadata": {},
   "outputs": [
    {
     "data": {
      "text/plain": [
       "0.1"
      ]
     },
     "execution_count": 49,
     "metadata": {},
     "output_type": "execute_result"
    }
   ],
   "source": [
    "config.agent.alpha"
   ]
  },
  {
   "cell_type": "code",
   "execution_count": 50,
   "id": "f772ad54",
   "metadata": {},
   "outputs": [
    {
     "name": "stdout",
     "output_type": "stream",
     "text": [
      "0.0\n",
      "0.40722656\n",
      "0.5859375\n",
      "0.5996094\n",
      "0.6357422\n",
      "0.6503906\n",
      "0.6904297\n",
      "0.6845703\n",
      "0.70410156\n",
      "0.6738281\n"
     ]
    }
   ],
   "source": [
    "eval_infos = []\n",
    "for i in range(100):\n",
    "    key, new_key = jax.random.split(key, 2)\n",
    "    buffer_state, agent_new, key = train_n_epochs(buffer_state, agent_new, key)\n",
    "    if i%10==0:\n",
    "        eval_info = eval_agent(agent_new, key, config)\n",
    "        eval_infos.append(eval_info)\n",
    "        print(eval_info['eval/mean_reward'])\n",
    "        "
   ]
  },
  {
   "cell_type": "code",
   "execution_count": 51,
   "id": "aeb9744a",
   "metadata": {},
   "outputs": [
    {
     "data": {
      "text/plain": [
       "Text(0.5, 1.0, 'Actor distillation training')"
      ]
     },
     "execution_count": 51,
     "metadata": {},
     "output_type": "execute_result"
    },
    {
     "data": {
      "image/png": "[encoded data removed]",
      "text/plain": [
       "<Figure size 640x480 with 1 Axes>"
      ]
     },
     "metadata": {},
     "output_type": "display_data"
    }
   ],
   "source": [
    "mean_rewards = [info['eval/mean_reward'] for info in eval_infos]\n",
    "x_axis = jnp.linspace(0, 900_000, 10)\n",
    "plt.plot(x_axis, mean_rewards, label='Actor distilled')\n",
    "plt.hlines(eval_info_critic['eval/mean_reward'], xmin=x_axis.min(), xmax=x_axis.max(), colors='r', linestyles='dashed', label=\"Softmax(Q)\")\n",
    "plt.legend()\n",
    "plt.ylabel('Mean reward')\n",
    "plt.xlabel('Training steps')\n",
    "plt.title('Actor distillation training')"
   ]
  },
  {
   "cell_type": "markdown",
   "id": "e3cdc27b",
   "metadata": {},
   "source": [
    "### Generalization tests"
   ]
  },
  {
   "cell_type": "code",
   "execution_count": 52,
   "id": "fde448c9",
   "metadata": {},
   "outputs": [],
   "source": [
    "eval_general_actor = eval_agent(agent_new, key, config, None, True)\n",
    "eval_general_q =  eval_agent(agent_new, key, config, 1, True)"
   ]
  },
  {
   "cell_type": "code",
   "execution_count": 53,
   "id": "4d7c136b",
   "metadata": {},
   "outputs": [],
   "source": [
    "mean_reward_general_actor = [eval_general_actor[f'eval_{i}/mean_reward'] for i in range(1,12,2)]\n",
    "mean_reward_general_q = [eval_general_q[f'eval_{i}/mean_reward'] for i in range(1,12,2)]"
   ]
  },
  {
   "cell_type": "code",
   "execution_count": 54,
   "id": "469dee48",
   "metadata": {},
   "outputs": [
    {
     "data": {
      "image/png": "[encoded data removed]",
      "text/plain": [
       "<Figure size 800x500 with 1 Axes>"
      ]
     },
     "metadata": {},
     "output_type": "display_data"
    }
   ],
   "source": [
    "import matplotlib.pyplot as plt\n",
    "import numpy as np\n",
    "\n",
    "x = np.array(range(1, 12, 2))\n",
    "width = 0.35  # bar width\n",
    "\n",
    "fig, ax = plt.subplots(figsize=(8,5))\n",
    "\n",
    "# Shift the bars so they don’t overlap\n",
    "ax.bar(x - width/2, mean_reward_general_actor, width, label='Actor distilled', alpha=0.8, color='tab:blue')\n",
    "ax.bar(x + width/2, mean_reward_general_q, width, label='Softmax(Q)', alpha=0.8, color='tab:orange')\n",
    "\n",
    "ax.set_xlabel('X axis label (e.g., timestep)')\n",
    "ax.set_ylabel('Mean Reward')\n",
    "ax.set_title('Comparison of Mean Rewards in generalization setup')\n",
    "ax.set_xticks(x)\n",
    "ax.legend()\n",
    "ax.grid(axis='y', linestyle='--', alpha=0.7)\n",
    "\n",
    "plt.tight_layout()\n",
    "plt.show()\n"
   ]
  },
  {
   "cell_type": "markdown",
   "id": "b48536d6",
   "metadata": {},
   "source": [
    "# Q functions"
   ]
  },
  {
   "cell_type": "code",
   "execution_count": 17,
   "id": "e50d3e75",
   "metadata": {},
   "outputs": [
    {
     "ename": "TypeError",
     "evalue": "cannot reshape array of shape (8, 100) (size 800) into shape 8 (size 8)",
     "output_type": "error",
     "traceback": [
      "\u001b[31m---------------------------------------------------------------------------\u001b[39m",
      "\u001b[31mTypeError\u001b[39m                                 Traceback (most recent call last)",
      "\u001b[36mCell\u001b[39m\u001b[36m \u001b[39m\u001b[32mIn[17]\u001b[39m\u001b[32m, line 1\u001b[39m\n\u001b[32m----> \u001b[39m\u001b[32m1\u001b[39m q1, q2 = agent.network.select(\u001b[33m'\u001b[39m\u001b[33mcritic\u001b[39m\u001b[33m'\u001b[39m)(tr_states.reshape(tr_states.shape[\u001b[32m0\u001b[39m], -\u001b[32m1\u001b[39m), tr_goals.reshape(tr_goals.shape[\u001b[32m0\u001b[39m], -\u001b[32m1\u001b[39m), \u001b[43mtr_actions\u001b[49m\u001b[43m.\u001b[49m\u001b[43mreshape\u001b[49m\u001b[43m(\u001b[49m\u001b[43mtr_actions\u001b[49m\u001b[43m.\u001b[49m\u001b[43mshape\u001b[49m\u001b[43m[\u001b[49m\u001b[32;43m0\u001b[39;49m\u001b[43m]\u001b[49m\u001b[43m)\u001b[49m)\n\u001b[32m      3\u001b[39m plt.plot(jnp.log(q2), label=\u001b[33m'\u001b[39m\u001b[33mq2\u001b[39m\u001b[33m'\u001b[39m)\n\u001b[32m      4\u001b[39m plt.plot(jnp.log(q1), label=\u001b[33m'\u001b[39m\u001b[33mq1\u001b[39m\u001b[33m'\u001b[39m)\n",
      "    \u001b[31m[... skipping hidden 1 frame]\u001b[39m\n",
      "\u001b[36mFile \u001b[39m\u001b[32m~/repos/crl_subgoal/.venv/lib/python3.11/site-packages/jax/_src/numpy/array_methods.py:474\u001b[39m, in \u001b[36m_compute_newshape\u001b[39m\u001b[34m(arr, newshape)\u001b[39m\n\u001b[32m    471\u001b[39m \u001b[38;5;28;01melse\u001b[39;00m:\n\u001b[32m    472\u001b[39m   \u001b[38;5;28;01mif\u001b[39;00m (\u001b[38;5;28mall\u001b[39m(\u001b[38;5;28misinstance\u001b[39m(d, \u001b[38;5;28mint\u001b[39m) \u001b[38;5;28;01mfor\u001b[39;00m d \u001b[38;5;129;01min\u001b[39;00m (*arr.shape, *newshape)) \u001b[38;5;129;01mand\u001b[39;00m\n\u001b[32m    473\u001b[39m       arr.size != math.prod(newshape)):\n\u001b[32m--> \u001b[39m\u001b[32m474\u001b[39m     \u001b[38;5;28;01mraise\u001b[39;00m \u001b[38;5;167;01mTypeError\u001b[39;00m(\u001b[33mf\u001b[39m\u001b[33m\"\u001b[39m\u001b[33mcannot reshape array of shape \u001b[39m\u001b[38;5;132;01m{\u001b[39;00marr.shape\u001b[38;5;132;01m}\u001b[39;00m\u001b[33m (size \u001b[39m\u001b[38;5;132;01m{\u001b[39;00marr.size\u001b[38;5;132;01m}\u001b[39;00m\u001b[33m) \u001b[39m\u001b[33m\"\u001b[39m\n\u001b[32m    475\u001b[39m                     \u001b[33mf\u001b[39m\u001b[33m\"\u001b[39m\u001b[33minto shape \u001b[39m\u001b[38;5;132;01m{\u001b[39;00morig_newshape\u001b[38;5;132;01m}\u001b[39;00m\u001b[33m (size \u001b[39m\u001b[38;5;132;01m{\u001b[39;00mmath.prod(newshape)\u001b[38;5;132;01m}\u001b[39;00m\u001b[33m)\u001b[39m\u001b[33m\"\u001b[39m)\n\u001b[32m    476\u001b[39m \u001b[38;5;28;01mreturn\u001b[39;00m \u001b[38;5;28mtuple\u001b[39m(-core.divide_shape_sizes(arr.shape, newshape)\n\u001b[32m    477\u001b[39m              \u001b[38;5;28;01mif\u001b[39;00m core.definitely_equal(d, -\u001b[32m1\u001b[39m) \u001b[38;5;28;01melse\u001b[39;00m d \u001b[38;5;28;01mfor\u001b[39;00m d \u001b[38;5;129;01min\u001b[39;00m newshape)\n",
      "\u001b[31mTypeError\u001b[39m: cannot reshape array of shape (8, 100) (size 800) into shape 8 (size 8)"
     ]
    }
   ],
   "source": [
    "q1, q2 = agent.network.select('critic')(tr_states.reshape(tr_states.shape[0], -1), tr_goals.reshape(tr_goals.shape[0], -1), tr_actions.reshape(tr_actions.shape[0]))\n",
    "\n",
    "plt.plot(jnp.log(q2), label='q2')\n",
    "plt.plot(jnp.log(q1), label='q1')\n",
    "plt.legend()\n",
    "plt.show()"
   ]
  },
  {
   "cell_type": "code",
   "execution_count": null,
   "id": "908dd408",
   "metadata": {},
   "outputs": [],
   "source": []
  },
  {
   "cell_type": "code",
   "execution_count": null,
   "id": "a8271590",
   "metadata": {},
   "outputs": [],
   "source": []
  }
 ],
 "metadata": {
  "kernelspec": {
   "display_name": "crl-subgoal",
   "language": "python",
   "name": "python3"
  },
  "language_info": {
   "codemirror_mode": {
    "name": "ipython",
    "version": 3
   },
   "file_extension": ".py",
   "mimetype": "text/x-python",
   "name": "python",
   "nbconvert_exporter": "python",
   "pygments_lexer": "ipython3",
   "version": "3.11.4"
  }
 },
 "nbformat": 4,
 "nbformat_minor": 5
}
