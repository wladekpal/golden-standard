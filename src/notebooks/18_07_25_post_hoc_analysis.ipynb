{
 "cells": [
  {
   "cell_type": "code",
   "execution_count": 1,
   "id": "8e9b0459",
   "metadata": {},
   "outputs": [
    {
     "name": "stdout",
     "output_type": "stream",
     "text": [
      "/home/mbortkie/repos/crl_subgoal/src/notebooks\n",
      "/home/mbortkie/repos/crl_subgoal/src\n"
     ]
    }
   ],
   "source": [
    "import os\n",
    "print(os.getcwd())\n",
    "os.chdir(os.path.dirname(os.getcwd()))\n",
    "print(os.getcwd()) \n"
   ]
  },
  {
   "cell_type": "code",
   "execution_count": null,
   "id": "2de02f2a",
   "metadata": {},
   "outputs": [],
   "source": [
    "import functools\n",
    "import os\n",
    "\n",
    "import wandb\n",
    "\n",
    "\n",
    "os.environ[\"CUDA_DEVICE_ORDER\"]=\"PCI_BUS_ID\"   \n",
    "os.environ['CUDA_VISIBLE_DEVICES'] = '7'\n",
    "\n",
    "import jax\n",
    "import jax.numpy as jnp\n",
    "from jax import random\n",
    "from typing import Tuple, Dict, Any\n",
    "from dataclasses import dataclass\n",
    "import chex\n",
    "from flax import struct\n",
    "from absl import app, flags\n",
    "from ml_collections import config_flags\n",
    "from impls.agents import agents\n",
    "from config import SRC_ROOT_DIR\n",
    "from envs.block_moving_env import *\n",
    "from train import *\n",
    "from impls.utils.checkpoints import restore_agent, save_agent\n",
    "from config import Config, ExpConfig\n",
    "from envs import legal_envs\n"
   ]
  },
  {
   "cell_type": "code",
   "execution_count": 14,
   "id": "3efa1a95",
   "metadata": {},
   "outputs": [],
   "source": [
    "config = Config(\n",
    "    exp=ExpConfig(seed=0, name=\"test\"),\n",
    "    env=BoxPushingConfig(\n",
    "        grid_size=5,\n",
    "        number_of_boxes_min=3,\n",
    "        number_of_boxes_max=7,\n",
    "        number_of_moving_boxes_max=5\n",
    "    )\n",
    ")"
   ]
  },
  {
   "cell_type": "code",
   "execution_count": 15,
   "id": "11b7e3ca",
   "metadata": {},
   "outputs": [],
   "source": [
    "env = create_env(config.env)\n",
    "env = AutoResetWrapper(env)\n",
    "key = random.PRNGKey(config.exp.seed)\n",
    "env.step = jax.jit(jax.vmap(env.step))\n",
    "env.reset = jax.jit(jax.vmap(env.reset))\n",
    "partial_flatten = functools.partial(flatten_batch, get_next_obs=config.agent.use_next_obs)\n",
    "jitted_flatten_batch = jax.jit(jax.vmap(partial_flatten, in_axes=(None, 0, 0)), static_argnums=(0,))\n",
    "\n",
    "dummy_timestep = env.get_dummy_timestep(key)\n",
    "\n",
    "replay_buffer = jit_wrap(\n",
    "    TrajectoryUniformSamplingQueue(\n",
    "        max_replay_size=config.exp.max_replay_size,\n",
    "        dummy_data_sample=dummy_timestep,\n",
    "        sample_batch_size=config.exp.batch_size,\n",
    "        num_envs=config.exp.num_envs,\n",
    "        episode_length=config.env.episode_length,\n",
    "    )\n",
    ")\n",
    "buffer_state = jax.jit(replay_buffer.init)(key)\n",
    "\n",
    "example_batch = {\n",
    "    'observations':dummy_timestep.grid.reshape(1, -1),  # Add batch dimension \n",
    "    'next_observations': dummy_timestep.grid.reshape(1, -1),\n",
    "    'actions': jnp.ones((1,), dtype=jnp.int8) * (env._env.action_space-1), # TODO: make sure it should be the maximal value of action space  # Single action for batch size 1\n",
    "    'rewards': dummy_timestep.reward.reshape(1, -1),\n",
    "    'masks': 1.0 - dummy_timestep.reward.reshape(1, -1), \n",
    "    'value_goals': dummy_timestep.grid.reshape(1, -1),\n",
    "    'actor_goals': dummy_timestep.grid.reshape(1, -1),\n",
    "}"
   ]
  },
  {
   "cell_type": "code",
   "execution_count": 17,
   "id": "dabd3185",
   "metadata": {},
   "outputs": [
    {
     "name": "stdout",
     "output_type": "stream",
     "text": [
      "Restored from /home/mbortkie/repos/crl_subgoal/experiments/test_generalization_sc_YHIWZ6/runs/long_moving_boxes_5_grid_5_range_3_7_alpha_0.0//params_50.pkl\n"
     ]
    }
   ],
   "source": [
    "agent, config = restore_agent(example_batch, \"/home/mbortkie/repos/crl_subgoal/experiments/test_generalization_sc_YHIWZ6/runs/long_moving_boxes_5_grid_5_range_3_7_alpha_0.0/\", 50)"
   ]
  },
  {
   "cell_type": "code",
   "execution_count": 23,
   "id": "d6851456",
   "metadata": {},
   "outputs": [],
   "source": [
    "keys = random.split(random.PRNGKey(0), 8)\n",
    "state, info = env.reset(keys)\n"
   ]
  },
  {
   "cell_type": "code",
   "execution_count": 28,
   "id": "a37eb452",
   "metadata": {},
   "outputs": [
    {
     "data": {
      "text/plain": [
       "Array([1, 2, 2, 5, 2, 0, 0, 2], dtype=int32)"
      ]
     },
     "execution_count": 28,
     "metadata": {},
     "output_type": "execute_result"
    }
   ],
   "source": [
    "agent.sample_actions(state.grid.reshape(state.grid.shape[0], -1), state.goal.reshape(state.goal.shape[0], -1), seed=random.PRNGKey(0))"
   ]
  },
  {
   "cell_type": "code",
   "execution_count": null,
   "id": "54524523",
   "metadata": {},
   "outputs": [],
   "source": []
  }
 ],
 "metadata": {
  "kernelspec": {
   "display_name": ".venv",
   "language": "python",
   "name": "python3"
  },
  "language_info": {
   "codemirror_mode": {
    "name": "ipython",
    "version": 3
   },
   "file_extension": ".py",
   "mimetype": "text/x-python",
   "name": "python",
   "nbconvert_exporter": "python",
   "pygments_lexer": "ipython3",
   "version": "3.11.4"
  }
 },
 "nbformat": 4,
 "nbformat_minor": 5
}
